{
 "cells": [
  {
   "cell_type": "markdown",
   "metadata": {
    "collapsed": true,
    "pycharm": {
     "name": "#%% md\n"
    }
   },
   "source": [
    "# Homework 02"
   ]
  },
  {
   "cell_type": "markdown",
   "source": [
    "## 2.1 - Spam Filter\n"
   ],
   "metadata": {
    "collapsed": false
   }
  },
  {
   "cell_type": "markdown",
   "source": [
    "Using a method described by Paul Graham (http://www.paulgraham.com/spam.html)\n",
    "this weeks assignment was to build a spam filter.\n",
    "It uses a statistical approach to attempt to detect spam."
   ],
   "metadata": {
    "collapsed": false
   }
  },
  {
   "cell_type": "markdown",
   "source": [
    "Below are functions used to help implement the spam filter."
   ],
   "metadata": {
    "collapsed": false,
    "pycharm": {
     "name": "#%% md\n"
    }
   }
  },
  {
   "cell_type": "code",
   "execution_count": 2,
   "outputs": [],
   "source": [
    "def build_hash(corpus):\n",
    "    \"\"\"Builds a hashtable of occurrences for each word in a corpus\"\"\"\n",
    "    table = {}\n",
    "    for email in corpus:\n",
    "        for token in email:\n",
    "            if token not in table:\n",
    "                count = 0\n",
    "                for spam in corpus:\n",
    "                    for word in spam:\n",
    "                        if token == word:\n",
    "                            count += 1\n",
    "                # lowercase for consistency across the two hash tables\n",
    "                table.update({token.lower(): count})\n",
    "    return table\n",
    "\n",
    "\n",
    "def spam_probability(token, good, bad, ngood, nbad):\n",
    "    \"\"\"Calculates the probability a given word is from a spam email or not\"\"\"\n",
    "    g = 2 * (good.get(token) or 0)\n",
    "    b = (bad.get(token) or 0)\n",
    "    if g + b >= 1:\n",
    "        return max(0.01, min(0.99, min(1.0, b / nbad) / (min(1.0, g / ngood) + min(1.0, b / nbad))))\n",
    "    else:\n",
    "        return 0\n",
    "    \n",
    "    \n",
    "def build_probability_table(good, bad, ngood, nbad):\n",
    "    \"\"\"Builds the probability table for each token from the bad and good corpuses\"\"\"\n",
    "    probs_table = {}\n",
    "    for word in good:\n",
    "        probs_table.update({word: spam_probability(word, good, bad, ngood, nbad)})\n",
    "    for word in bad:\n",
    "        if word not in probs_table:\n",
    "            probs_table.update({word: spam_probability(word, good, bad, ngood, nbad)})\n",
    "    return probs_table\n",
    "\n",
    "\n",
    "def new_mail_probability(mail, probs_table):\n",
    "    \"\"\"Given an email and the probabilities of each token, calculates the probability the individual email is spam.\"\"\"\n",
    "    prod = 1\n",
    "    complements = 1\n",
    "    # finds product of all the elements, and complements of the elements\n",
    "    for token in mail:\n",
    "        prob = probs_table.get(token.lower())\n",
    "        prod *= prob\n",
    "        complements *= (1 - prob)\n",
    "\n",
    "    return prod / (prod + complements)"
   ],
   "metadata": {
    "collapsed": false,
    "pycharm": {
     "name": "#%%\n",
     "is_executing": false
    }
   }
  },
  {
   "cell_type": "markdown",
   "source": [
    "The spam filter is tested using these two predefined corpus's:\n"
   ],
   "metadata": {
    "collapsed": false
   }
  },
  {
   "cell_type": "code",
   "execution_count": 3,
   "outputs": [],
   "source": [
    "spam_corpus = [[\"I\", \"am\", \"spam\", \"spam\", \"I\", \"am\"], [\"I\", \"do\", \"not\", \"like\", \"that\", \"spamiam\"]]\n",
    "ham_corpus = [[\"do\", \"i\", \"like\", \"green\", \"eggs\", \"and\", \"ham\"], [\"i\", \"do\"]]"
   ],
   "metadata": {
    "collapsed": false,
    "pycharm": {
     "name": "#%%\n",
     "is_executing": false
    }
   }
  },
  {
   "cell_type": "markdown",
   "source": [
    "Using the build_hash() function the count of occurrences of \n",
    "each word in the corpus's are recorded."
   ],
   "metadata": {
    "collapsed": false
   }
  },
  {
   "cell_type": "code",
   "execution_count": 4,
   "outputs": [
    {
     "name": "stdout",
     "text": [
      "{'i': 3, 'am': 2, 'spam': 2, 'do': 1, 'not': 1, 'like': 1, 'that': 1, 'spamiam': 1}\n",
      "{'do': 2, 'i': 2, 'like': 1, 'green': 1, 'eggs': 1, 'and': 1, 'ham': 1}\n"
     ],
     "output_type": "stream"
    }
   ],
   "source": [
    "spam = build_hash(spam_corpus)\n",
    "ham = build_hash(ham_corpus)\n",
    "\n",
    "print(spam)\n",
    "print(ham)"
   ],
   "metadata": {
    "collapsed": false,
    "pycharm": {
     "name": "#%%\n",
     "is_executing": false
    }
   }
  },
  {
   "cell_type": "markdown",
   "source": [
    "The probabilities table for each word gives the odds that\n",
    "the word is from a spam message or not."
   ],
   "metadata": {
    "collapsed": false
   }
  },
  {
   "cell_type": "code",
   "execution_count": 5,
   "outputs": [
    {
     "name": "stdout",
     "text": [
      "{'do': 0.3333333333333333, 'i': 0.5, 'like': 0.3333333333333333, 'green': 0.01, 'eggs': 0.01, 'and': 0.01, 'ham': 0.01, 'am': 0.99, 'spam': 0.99, 'not': 0.99, 'that': 0.99, 'spamiam': 0.99}\n"
     ],
     "output_type": "stream"
    }
   ],
   "source": [
    "# number of emails in each corpus\n",
    "nbad = len(spam_corpus)\n",
    "ngood = len(ham_corpus)\n",
    "\n",
    "probabilities = build_probability_table(ham, spam, ngood, nbad)\n",
    "print(probabilities)"
   ],
   "metadata": {
    "collapsed": false,
    "pycharm": {
     "name": "#%%\n",
     "is_executing": false
    }
   }
  },
  {
   "cell_type": "markdown",
   "source": [
    "To test out the original \"emails\" we started with, we can \n",
    "use the new_mail_probability() function. For each of the four emails, \n",
    "the probability it's spam is accurate to the truth."
   ],
   "metadata": {
    "collapsed": false,
    "pycharm": {
     "name": "#%% md\n"
    }
   }
  },
  {
   "cell_type": "code",
   "execution_count": 6,
   "outputs": [
    {
     "name": "stdout",
     "text": [
      "spam_corpus[0]: 0.9999999895897965\n",
      "spam_corpus[1]: 0.999995877576386\n",
      "ham_corpus[0]: 2.6025508824397714e-09\n",
      "ham_corpus[1]: 0.3333333333333333\n"
     ],
     "output_type": "stream"
    }
   ],
   "source": [
    "spam_prob = new_mail_probability(spam_corpus[0], probabilities)\n",
    "print(\"spam_corpus[0]: \" + str(spam_prob))\n",
    "spam_prob = new_mail_probability(spam_corpus[1], probabilities)\n",
    "print(\"spam_corpus[1]: \" + str(spam_prob))\n",
    "spam_prob = new_mail_probability(ham_corpus[0], probabilities)\n",
    "print(\"ham_corpus[0]: \" + str(spam_prob))\n",
    "spam_prob = new_mail_probability(ham_corpus[1], probabilities)\n",
    "print(\"ham_corpus[1]: \" + str(spam_prob))"
   ],
   "metadata": {
    "collapsed": false,
    "pycharm": {
     "name": "#%%\n",
     "is_executing": false
    }
   }
  },
  {
   "cell_type": "markdown",
   "source": [
    "All the numbers are either very high or very low, except for\n",
    "ham_corpus[1]. That's because the \"email\" there was simply\n",
    "\"I do\". Even with such little information to go off of, \n",
    "the spam filter still gives a fairly correct judgement on \n",
    "if this email is spam or not. "
   ],
   "metadata": {
    "collapsed": false,
    "pycharm": {
     "name": "#%% md\n"
    }
   }
  },
  {
   "cell_type": "markdown",
   "source": [
    "Graham calls this approach a Bayesian one because it assigns a spam probability\n",
    "to each email, not just a score. Other spam filters use scores,\n",
    "but it's hard to understand what a score even is. Because this\n",
    "approach uses probability, both good and bad evidence can \n",
    "be used to determine if a email is spam or not, and the \n",
    "probability given for an individual email gives much more insight\n",
    "than a simple score does.\n",
    "\n",
    "Bayesian statistics also describe probability as being a degree\n",
    "of belief in an event. This degree of belief is based off\n",
    "of prior knowledge or experience. In this case, the degree\n",
    "of belief is the odds a given email is spam, with the\n",
    "prior knowledge of the frequency of words in other\n",
    "spam or non-spam emails. By this definition of Bayesian\n",
    "statistics, this is very much a Bayesian approach to spam\n",
    "detection."
   ],
   "metadata": {
    "collapsed": false
   }
  },
  {
   "cell_type": "markdown",
   "source": [
    "## 2.2 Bayesian Network\n"
   ],
   "metadata": {
    "collapsed": false,
    "pycharm": {
     "name": "#%% md\n"
    }
   }
  },
  {
   "cell_type": "markdown",
   "source": [
    "Using Figure 14.12a, from the AIMA textbook, this Bayesian\n",
    "Network is created:"
   ],
   "metadata": {
    "collapsed": false
   }
  },
  {
   "cell_type": "code",
   "execution_count": 7,
   "outputs": [],
   "source": [
    "from probability import BayesNet, enumeration_ask, elimination_ask, gibbs_ask, likelihood_weighting, rejection_sampling\n",
    "\n",
    "# Utility variables\n",
    "T, F = True, False\n",
    "\n",
    "weather = BayesNet([\n",
    "    ('Cloudy', '', 0.5),\n",
    "    ('Sprinkler', 'Cloudy', {T: 0.1, F: 0.5}),\n",
    "    ('Rain', 'Cloudy', {T: 0.8, F: 0.2}),\n",
    "    ('WetGrass', 'Sprinkler Rain', {(T, T): 0.99, (T, F): 0.9, (F, T): 0.9, (F, F): 0.0})\n",
    "])"
   ],
   "metadata": {
    "collapsed": false,
    "pycharm": {
     "name": "#%%\n",
     "is_executing": false
    }
   }
  },
  {
   "cell_type": "markdown",
   "source": [
    "### 2.2b\n",
    "For the full joint probability distribution of this domain, \n",
    "when we assume that no conditional independence relations are \n",
    "known to hold between the values, there would be 16\n",
    "independent values. This is because there are 4 different\n",
    "variables, all of which can take on a true or false state.\n",
    "Therefore the number of independent values is 2^4, or\n",
    "16."
   ],
   "metadata": {
    "collapsed": false
   }
  },
  {
   "cell_type": "markdown",
   "source": [
    "### 2.2c\n",
    "\n",
    "For the Bayesian network there are only 9 independent values.\n",
    "This is simply the different values shown in the figure. That's why\n",
    "using the Bayesian network is so advantageous: its structure helps to\n",
    "significantly reduce the number of values needed in computation."
   ],
   "metadata": {
    "collapsed": false
   }
  },
  {
   "cell_type": "markdown",
   "source": [
    "### 2.2d"
   ],
   "metadata": {
    "collapsed": false
   }
  },
  {
   "cell_type": "markdown",
   "source": [
    "P(Cloudy)\n",
    "\n",
    "This is found simply by looking at the individual cloudy\n",
    "variable, because this specific probability doesn't rely on any other variables. \n",
    "Therefore P(Cloudy) = 0.5"
   ],
   "metadata": {
    "collapsed": false
   }
  },
  {
   "cell_type": "code",
   "execution_count": 8,
   "outputs": [
    {
     "name": "stdout",
     "text": [
      "P(Cloudy): False: 0.5, True: 0.5\n"
     ],
     "output_type": "stream"
    }
   ],
   "source": [
    "print('P(Cloudy): ' + enumeration_ask('Cloudy', dict(), weather).show_approx())"
   ],
   "metadata": {
    "collapsed": false,
    "pycharm": {
     "name": "#%%\n",
     "is_executing": false
    }
   }
  },
  {
   "cell_type": "markdown",
   "source": [
    "P(Sprinker | cloudy)\n",
    "\n",
    "This is also found by simply looking at the figure, or problem set up, and\n",
    "correctly interpreting it. \n",
    "P(Sprinker | cloudy) = 0.1"
   ],
   "metadata": {
    "collapsed": false
   }
  },
  {
   "cell_type": "code",
   "execution_count": 9,
   "outputs": [
    {
     "name": "stdout",
     "text": [
      "P(Sprinkler | cloudy): False: 0.9, True: 0.1\n"
     ],
     "output_type": "stream"
    }
   ],
   "source": [
    "print('P(Sprinkler | cloudy): ' + enumeration_ask('Sprinkler', dict(Cloudy=T), weather).show_approx())"
   ],
   "metadata": {
    "collapsed": false,
    "pycharm": {
     "name": "#%%\n",
     "is_executing": false
    }
   }
  },
  {
   "cell_type": "markdown",
   "source": [
    "P(Cloudy| the sprinkler is running and it’s not raining)\n",
    "\n",
    "This one is a little trickier. We have to make sure we're considering how\n",
    "sprinkler and rain can both be caused by cloudiness.\n",
    "\n",
    "From here on out hand calculations will be done in code comment\n",
    "so that the left-align, easier to follow flow is kept."
   ],
   "metadata": {
    "collapsed": false
   }
  },
  {
   "cell_type": "code",
   "execution_count": 13,
   "outputs": [
    {
     "name": "stdout",
     "text": [
      "P(Cloudy | sprinkler ^ ¬rain): False: 0.952, True: 0.0476\n"
     ],
     "output_type": "stream"
    }
   ],
   "source": [
    "'''\n",
    "P(C | S, notR)\n",
    "= α P(C, S, notR)\n",
    "= α P(C) * P(S | C) * P(notR | C)\n",
    "= α < 0.5 * 0.1 * 0.1, 0.5 * 0.5 * 0.8 > \n",
    "= α <0.01, 0.2>\n",
    "= <0.0476, 0.952>\n",
    "'''\n",
    "\n",
    "print('P(Cloudy | sprinkler ^ ¬rain): ' + enumeration_ask('Cloudy', dict(Sprinkler=T, Rain=F), weather).show_approx())"
   ],
   "metadata": {
    "collapsed": false,
    "pycharm": {
     "name": "#%%%\n",
     "is_executing": false
    }
   }
  },
  {
   "cell_type": "markdown",
   "source": [
    "P(WetGrass | it’s cloudy, the sprinkler is running and it’s raining)"
   ],
   "metadata": {
    "collapsed": false
   }
  },
  {
   "cell_type": "code",
   "execution_count": 14,
   "outputs": [
    {
     "name": "stdout",
     "text": [
      "P(WetGrass | cloudy ^ sprinkler ^ rain): False: 0.01, True: 0.99\n"
     ],
     "output_type": "stream"
    }
   ],
   "source": [
    "'''\n",
    "P(WG | C, S, R) \n",
    "= α P(WG, C, S, R)\n",
    "= α P(WG | S, R) * P(S | C) * P(R | C) * P(C)\n",
    "= α < 0.99 * 0.1 * 0.8 * 0.5, 0.01 * 0.1 * 0.8 * 0.5>\n",
    "= α < 0.0396, 0.0004 > \n",
    "= < 0.99, 0.01 >\n",
    "'''\n",
    "\n",
    "print('P(WetGrass | cloudy ^ sprinkler ^ rain): ' + enumeration_ask('WetGrass', dict(Cloudy=T, Sprinkler=T, Rain=T),\n",
    "                                                                    weather).show_approx())"
   ],
   "metadata": {
    "collapsed": false,
    "pycharm": {
     "name": "#%%\n",
     "is_executing": false
    }
   }
  },
  {
   "cell_type": "markdown",
   "source": [
    "P(Cloudy | the grass is not wet)"
   ],
   "metadata": {
    "collapsed": false
   }
  },
  {
   "cell_type": "code",
   "execution_count": 15,
   "outputs": [
    {
     "name": "stdout",
     "text": [
      "P(Cloudy | ¬WetGrass): False: 0.639, True: 0.361\n"
     ],
     "output_type": "stream"
    }
   ],
   "source": [
    "'''\n",
    "P(C | notWG)\n",
    "= α P(C) * P(notWG | S, R) * P(S | C) * P(R | C)\n",
    "= α P(C) * Σsr P(notWG | S, R) * P(S | C) * P(R | C)\n",
    "= < 0.0374, 0.0255 >\n",
    "'''\n",
    "print('P(Cloudy | ¬WetGrass): ' + enumeration_ask('Cloudy', dict(WetGrass=F), weather).show_approx())\n"
   ],
   "metadata": {
    "collapsed": false,
    "pycharm": {
     "name": "#%%\n",
     "is_executing": false
    }
   }
  }
 ],
 "metadata": {
  "kernelspec": {
   "display_name": "Python 3",
   "language": "python",
   "name": "python3"
  },
  "language_info": {
   "codemirror_mode": {
    "name": "ipython",
    "version": 2
   },
   "file_extension": ".py",
   "mimetype": "text/x-python",
   "name": "python",
   "nbconvert_exporter": "python",
   "pygments_lexer": "ipython2",
   "version": "2.7.6"
  },
  "pycharm": {
   "stem_cell": {
    "cell_type": "raw",
    "source": [],
    "metadata": {
     "collapsed": false
    }
   }
  }
 },
 "nbformat": 4,
 "nbformat_minor": 0
}