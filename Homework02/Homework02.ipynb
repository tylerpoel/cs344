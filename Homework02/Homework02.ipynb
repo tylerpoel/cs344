{
 "cells": [
  {
   "cell_type": "markdown",
   "metadata": {
    "collapsed": true,
    "pycharm": {
     "name": "#%% md\n"
    }
   },
   "source": [
    "# Homework 02"
   ]
  },
  {
   "cell_type": "markdown",
   "source": [
    "## 2.1 - Spam Filter\n"
   ],
   "metadata": {
    "collapsed": false
   }
  },
  {
   "cell_type": "markdown",
   "source": [
    "Using a method described by Paul Graham (http://www.paulgraham.com/spam.html)\n",
    "this weeks assignment was to build a spam filter.\n",
    "It uses a statistical approach to attempt to detect spam."
   ],
   "metadata": {
    "collapsed": false
   }
  },
  {
   "cell_type": "markdown",
   "source": [
    "Graham calls this approach a Bayesian one because it assigns a spam probability\n",
    "to each email, not just a score. Other spam filters use scores,\n",
    "but it's hard to understand what a score even is. Because this\n",
    "approach uses probability, both good and bad evidence can \n",
    "be used to determine if a email is spam or not, and the \n",
    "probability given for an individual email gives much more insight\n",
    "than a simple score does.\n",
    "\n",
    "Bayesian statistics also describe probability as being a degree\n",
    "of belief in an event. This degree of belief is based off\n",
    "of prior knowledge or experience. In this case, the degree\n",
    "of belief is the odds a given email is spam, with the\n",
    "prior knowledge of the frequency of words in other\n",
    "spam or non-spam emails. By this definition of Bayesian\n",
    "statistics, this is very much a Bayesian approach to spam\n",
    "detection.\n"
   ],
   "metadata": {
    "collapsed": false,
    "pycharm": {
     "name": "#%% md\n"
    }
   }
  },
  {
   "cell_type": "markdown",
   "source": [
    "Below are two functions used to implement the spam filter.\n",
    "\n"
   ],
   "metadata": {
    "collapsed": false,
    "pycharm": {
     "name": "#%% md\n"
    }
   }
  },
  {
   "cell_type": "code",
   "execution_count": null,
   "outputs": [],
   "source": [
    "def build_hash(corpus):\n",
    "    \"\"\"This function build a hashtable of occurrences for each word \n",
    "    in a corpus\"\"\"\n",
    "    table = {}\n",
    "    for email in corpus:\n",
    "        for token in email:\n",
    "            if token not in table:\n",
    "                count = 0\n",
    "                for spam in corpus:\n",
    "                    for word in spam:\n",
    "                        if token == word:\n",
    "                            count += 1\n",
    "                # lowercase for consistency across the two hash tables\n",
    "                table.update({token.lower(): count})\n",
    "    return table\n",
    "\n",
    "\n",
    "def spam_probability(token, good, bad, ngood, nbad):\n",
    "    \"\"\"Calculates the probability a given word is from a \n",
    "    spam email or not\"\"\"\n",
    "    g = 2 * (good.get(token) or 0)\n",
    "    b = (bad.get(token) or 0)\n",
    "    if g + b >= 1:\n",
    "        return max(0.01, min(0.99, min(1.0, b / nbad) / (min(1.0, g / ngood) + min(1.0, b / nbad))))\n",
    "    else:\n",
    "        return 0\n"
   ],
   "metadata": {
    "collapsed": false,
    "pycharm": {
     "name": "#%%\n"
    }
   }
  }
 ],
 "metadata": {
  "kernelspec": {
   "display_name": "Python 3",
   "language": "python",
   "name": "python3"
  },
  "language_info": {
   "codemirror_mode": {
    "name": "ipython",
    "version": 2
   },
   "file_extension": ".py",
   "mimetype": "text/x-python",
   "name": "python",
   "nbconvert_exporter": "python",
   "pygments_lexer": "ipython2",
   "version": "2.7.6"
  },
  "pycharm": {
   "stem_cell": {
    "cell_type": "raw",
    "source": [],
    "metadata": {
     "collapsed": false
    }
   }
  }
 },
 "nbformat": 4,
 "nbformat_minor": 0
}