{
 "cells": [
  {
   "cell_type": "markdown",
   "metadata": {
    "collapsed": true,
    "pycharm": {
     "name": "#%% md\n"
    }
   },
   "source": [
    "# Homework 02"
   ]
  },
  {
   "cell_type": "markdown",
   "source": [
    "## 2.1 - Spam Filter\n"
   ],
   "metadata": {
    "collapsed": false
   }
  },
  {
   "cell_type": "markdown",
   "source": [
    "Using a method described by Paul Graham (http://www.paulgraham.com/spam.html)\n",
    "this weeks assignment was to build a spam filter.\n",
    "It uses a statistical approach to attempt to detect spam."
   ],
   "metadata": {
    "collapsed": false
   }
  },
  {
   "cell_type": "markdown",
   "source": [
    "Graham calls this approach a Bayesian one because it assigns a spam probability\n",
    "to each email, not just a score. Other spam filters use scores,\n",
    "but it's hard to understand what a score even is. Because this\n",
    "approach uses probability, both good and bad evidence can \n",
    "be used to determine if a email is spam or not, and the \n",
    "probability given for an individual email gives much more insight\n",
    "than a simple score does.\n",
    "\n",
    "Bayesian statistics also describe probability as being a degree\n",
    "of belief in an event. This degree of belief is based off\n",
    "of prior knowledge or experience. In this case, the degree\n",
    "of belief is the odds a given email is spam, with the\n",
    "prior knowledge of the frequency of words in other\n",
    "spam or non-spam emails. By this definition of Bayesian\n",
    "statistics, this is very much a Bayesian approach to spam\n",
    "detection.\n"
   ],
   "metadata": {
    "collapsed": false,
    "pycharm": {
     "name": "#%% md\n"
    }
   }
  }
 ],
 "metadata": {
  "kernelspec": {
   "display_name": "Python 3",
   "language": "python",
   "name": "python3"
  },
  "language_info": {
   "codemirror_mode": {
    "name": "ipython",
    "version": 2
   },
   "file_extension": ".py",
   "mimetype": "text/x-python",
   "name": "python",
   "nbconvert_exporter": "python",
   "pygments_lexer": "ipython2",
   "version": "2.7.6"
  },
  "pycharm": {
   "stem_cell": {
    "cell_type": "raw",
    "source": [],
    "metadata": {
     "collapsed": false
    }
   }
  }
 },
 "nbformat": 4,
 "nbformat_minor": 0
}