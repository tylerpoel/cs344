{
 "cells": [
  {
   "cell_type": "markdown",
   "metadata": {
    "collapsed": true,
    "pycharm": {
     "name": "#%% md\n"
    }
   },
   "source": [
    "# Homework 02"
   ]
  },
  {
   "cell_type": "markdown",
   "source": [
    "## 2.1 - Spam Filter\n"
   ],
   "metadata": {
    "collapsed": false
   }
  },
  {
   "cell_type": "markdown",
   "source": [
    "Using a method described by Paul Graham (http://www.paulgraham.com/spam.html)\n",
    "this weeks assignment was to build a spam filter.\n",
    "It uses a statistical approach to attempt to detect spam."
   ],
   "metadata": {
    "collapsed": false
   }
  },
  {
   "cell_type": "markdown",
   "source": [
    "Graham calls this approach a Bayesian one because it assigns a spam probability\n",
    "to each email, not just a score. Other spam filters use scores,\n",
    "but it's hard to understand what a score even is. Because this\n",
    "approach uses probability, both good and bad evidence can \n",
    "be used to determine if a email is spam or not, and the \n",
    "probability given for an individual email gives much more insight\n",
    "than a simple score does.\n",
    "\n",
    "Bayesian statistics also describe probability as being a degree\n",
    "of belief in an event. This degree of belief is based off\n",
    "of prior knowledge or experience. In this case, the degree\n",
    "of belief is the odds a given email is spam, with the\n",
    "prior knowledge of the frequency of words in other\n",
    "spam or non-spam emails. By this definition of Bayesian\n",
    "statistics, this is very much a Bayesian approach to spam\n",
    "detection.\n"
   ],
   "metadata": {
    "collapsed": false,
    "pycharm": {
     "name": "#%% md\n"
    }
   }
  },
  {
   "cell_type": "markdown",
   "source": [
    "Below are two functions used to help implement the spam filter."
   ],
   "metadata": {
    "collapsed": false,
    "pycharm": {
     "name": "#%% md\n"
    }
   }
  },
  {
   "cell_type": "code",
   "execution_count": 1,
   "outputs": [],
   "source": [
    "def build_hash(corpus):\n",
    "    \"\"\"This function build a hashtable of occurrences for each word in a corpus\"\"\"\n",
    "    table = {}\n",
    "    for email in corpus:\n",
    "        for token in email:\n",
    "            if token not in table:\n",
    "                count = 0\n",
    "                for spam in corpus:\n",
    "                    for word in spam:\n",
    "                        if token == word:\n",
    "                            count += 1\n",
    "                # lowercase for consistency across the two hash tables\n",
    "                table.update({token.lower(): count})\n",
    "    return table\n",
    "\n",
    "\n",
    "def spam_probability(token, good, bad, ngood, nbad):\n",
    "    \"\"\"Calculates the probability a given word is from a spam email or not\"\"\"\n",
    "    g = 2 * (good.get(token) or 0)\n",
    "    b = (bad.get(token) or 0)\n",
    "    if g + b >= 1:\n",
    "        return max(0.01, min(0.99, min(1.0, b / nbad) / (min(1.0, g / ngood) + min(1.0, b / nbad))))\n",
    "    else:\n",
    "        return 0\n"
   ],
   "metadata": {
    "collapsed": false,
    "pycharm": {
     "name": "#%%\n",
     "is_executing": false
    }
   }
  },
  {
   "cell_type": "markdown",
   "source": [
    "The spam filter is tested using these two predefined corpus's:\n"
   ],
   "metadata": {
    "collapsed": false
   }
  },
  {
   "cell_type": "code",
   "execution_count": 2,
   "outputs": [],
   "source": [
    "spam_corpus = [[\"I\", \"am\", \"spam\", \"spam\", \"I\", \"am\"], [\"I\", \"do\", \"not\", \"like\", \"that\", \"spamiam\"]]\n",
    "ham_corpus = [[\"do\", \"i\", \"like\", \"green\", \"eggs\", \"and\", \"ham\"], [\"i\", \"do\"]]"
   ],
   "metadata": {
    "collapsed": false,
    "pycharm": {
     "name": "#%%\n",
     "is_executing": false
    }
   }
  },
  {
   "cell_type": "markdown",
   "source": [
    "Using the build_hash() function the count of occurrences of \n",
    "each word in the corpus's are recorded."
   ],
   "metadata": {
    "collapsed": false
   }
  },
  {
   "cell_type": "code",
   "execution_count": 3,
   "outputs": [
    {
     "name": "stdout",
     "text": [
      "{'i': 3, 'am': 2, 'spam': 2, 'do': 1, 'not': 1, 'like': 1, 'that': 1, 'spamiam': 1}\n",
      "{'do': 2, 'i': 2, 'like': 1, 'green': 1, 'eggs': 1, 'and': 1, 'ham': 1}\n"
     ],
     "output_type": "stream"
    }
   ],
   "source": [
    "spam = build_hash(spam_corpus)\n",
    "ham = build_hash(ham_corpus)\n",
    "\n",
    "print(spam)\n",
    "print(ham)\n"
   ],
   "metadata": {
    "collapsed": false,
    "pycharm": {
     "name": "#%%\n",
     "is_executing": false
    }
   }
  },
  {
   "cell_type": "markdown",
   "source": [
    "The probabilities table for each word gives the odds that\n",
    "the word is from a spam message or not."
   ],
   "metadata": {
    "collapsed": false
   }
  },
  {
   "cell_type": "code",
   "execution_count": 4,
   "outputs": [
    {
     "name": "stdout",
     "text": [
      "{'do': 0.3333333333333333, 'i': 0.5, 'like': 0.3333333333333333, 'green': 0.01, 'eggs': 0.01, 'and': 0.01, 'ham': 0.01, 'am': 0.99, 'spam': 0.99, 'not': 0.99, 'that': 0.99, 'spamiam': 0.99}\n"
     ],
     "output_type": "stream"
    }
   ],
   "source": [
    "# number of emails in each corpus\n",
    "nbad = len(spam_corpus)\n",
    "ngood = len(ham_corpus)\n",
    "\n",
    "probabilities = {}\n",
    "for word in ham:\n",
    "    probabilities.update({word: spam_probability(word, ham, spam, ngood, nbad)})\n",
    "for word in spam:\n",
    "    if word not in probabilities:\n",
    "        probabilities.update({word: spam_probability(word, ham, spam, ngood, nbad)})\n",
    "\n",
    "print(probabilities)\n"
   ],
   "metadata": {
    "collapsed": false,
    "pycharm": {
     "name": "#%%\n",
     "is_executing": false
    }
   }
  }
 ],
 "metadata": {
  "kernelspec": {
   "display_name": "Python 3",
   "language": "python",
   "name": "python3"
  },
  "language_info": {
   "codemirror_mode": {
    "name": "ipython",
    "version": 2
   },
   "file_extension": ".py",
   "mimetype": "text/x-python",
   "name": "python",
   "nbconvert_exporter": "python",
   "pygments_lexer": "ipython2",
   "version": "2.7.6"
  },
  "pycharm": {
   "stem_cell": {
    "cell_type": "raw",
    "source": [],
    "metadata": {
     "collapsed": false
    }
   }
  }
 },
 "nbformat": 4,
 "nbformat_minor": 0
}