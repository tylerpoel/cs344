{
 "cells": [
  {
   "cell_type": "markdown",
   "metadata": {
    "collapsed": true,
    "pycharm": {
     "name": "#%% md\n"
    }
   },
   "source": [
    "# Homework 04\n",
    "\n",
    "## 4.1 - Essay"
   ]
  },
  {
   "cell_type": "markdown",
   "source": [
    "I don't think that \"deep\" neural networks are going anywhere, and believe that\n",
    "they're a big breakthrough that will be used for years in the future. They have much\n",
    "more capability than things like expert systems and perceptrons, which ended\n",
    "up being unsuccessful for bigger scale and more complicated problems.\n",
    "\n",
    "There are a few reasons for this fact. First is the wide application of deep neural nets.\n",
    "They have the capability of learning almost any type of problem, given that one\n",
    "feeds the data in correctly and optimally. From image recognition (like the MNIST dataset), \n",
    "to text based input (like the IMDB dataset) there's a lot of areas where deep neural nets \n",
    "are very useful, and also widely successful. In our world today we also now fully have the capabilities to make\n",
    "deep neural networks effective. We have tons and tons of data available, which is required so that our\n",
    "networks become more generalized, and also learn things deeper and better. We also\n",
    "have the computational power to train these networks on all this data, thanks to things\n",
    "like Google's cloud computing and server farms. \n",
    "\n",
    "Overall, thanks the availability of Big data and lots of computational power, \n",
    "along with deep neural network's wide application and strong success I think\n",
    "they're going to be used for years to come.\n"
   ],
   "metadata": {
    "collapsed": false,
    "pycharm": {
     "name": "#%% md\n"
    }
   }
  }
 ],
 "metadata": {
  "kernelspec": {
   "display_name": "Python 3",
   "language": "python",
   "name": "python3"
  },
  "language_info": {
   "codemirror_mode": {
    "name": "ipython",
    "version": 2
   },
   "file_extension": ".py",
   "mimetype": "text/x-python",
   "name": "python",
   "nbconvert_exporter": "python",
   "pygments_lexer": "ipython2",
   "version": "2.7.6"
  },
  "pycharm": {
   "stem_cell": {
    "cell_type": "raw",
    "source": [],
    "metadata": {
     "collapsed": false
    }
   }
  }
 },
 "nbformat": 4,
 "nbformat_minor": 0
}