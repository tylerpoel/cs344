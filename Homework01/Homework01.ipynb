{
 "cells": [
  {
   "cell_type": "markdown",
   "metadata": {
    "collapsed": true,
    "pycharm": {
     "name": "#%% md\n"
    }
   },
   "source": [
    "# Homework 1"
   ]
  },
  {
   "cell_type": "markdown",
   "source": [
    "## 1.1 - Psychologists and AI\n"
   ],
   "metadata": {
    "collapsed": false,
    "pycharm": {
     "name": "#%% md\n"
    }
   }
  },
  {
   "cell_type": "markdown",
   "source": [
    "I don't believe that simple introspection would be a good way \n",
    "for researchers to gain insight into human cognitive processes. \n",
    "For some, introspection could be a good method for simple\n",
    "meditation, or for sorting out one's feelings, however to use\n",
    "it as an actual scientific discipline seems like a reliance\n",
    "on bad evidence, especially with the goal of modelling said\n",
    "processes. \n",
    "\n",
    "Through introspection one may believe they know \"how\" they think,\n",
    "or how their brain works, but there's really no facts presented\n",
    "with a conclusion like that. It's mere conjecture. If researchers\n",
    "truly wanted to model the processes the human brain goes through,\n",
    "they should set up some kind of experiment that can monitor \n",
    "brain activity. I think using introspection does not provide enough\n",
    "evidence, it's only someone's guesses as to how something works."
   ],
   "metadata": {
    "collapsed": false
   }
  },
  {
   "cell_type": "markdown",
   "source": [
    "## 1.2 - TSP Problem"
   ],
   "metadata": {
    "collapsed": false
   }
  },
  {
   "cell_type": "markdown",
   "source": [
    "I set up my TSP \"world\" as an undirected, interconnected graph.\n",
    "For testing purposes I made this graph very small and simple.\n",
    "\n"
   ],
   "metadata": {
    "collapsed": false
   }
  },
  {
   "cell_type": "code",
   "source": [
    "# Imports\n",
    "from search import UndirectedGraph, Problem, hill_climbing, simulated_annealing, exp_schedule\n",
    "import random"
   ],
   "metadata": {
    "collapsed": false,
    "pycharm": {
     "name": "#%%\n",
     "is_executing": false
    }
   },
   "execution_count": 2,
   "outputs": []
  },
  {
   "cell_type": "code",
   "execution_count": 3,
   "outputs": [],
   "source": [
    "TSP_world = UndirectedGraph(dict(\n",
    "    A=dict(B=1, C=7, D=3, E=6, F=22),\n",
    "    B=dict(C=5, D=2, E=14, F=3),\n",
    "    C=dict(D=8, E=12, F=15),\n",
    "    D=dict(E=10, F=25),\n",
    "    E=dict(F=20)))\n"
   ],
   "metadata": {
    "collapsed": false,
    "pycharm": {
     "name": "#%%\n",
     "is_executing": false
    }
   }
  },
  {
   "cell_type": "markdown",
   "source": [
    "I also took the romania graph, to use a more complicated\n",
    "example. Because the graph isn't interconnected I created\n",
    "a function to make it so. "
   ],
   "metadata": {
    "collapsed": false
   }
  },
  {
   "cell_type": "code",
   "execution_count": 4,
   "outputs": [],
   "source": [
    "romania = UndirectedGraph(dict(\n",
    "    arad=dict(zerind=75, sibiu=140, timisoara=118),\n",
    "    bucharest=dict(urziceni=85, pitesti=101, giurgiu=90, fagaras=211),\n",
    "    craiova=dict(dobreta=120, rimnicuvilcea=146, pitesti=138),\n",
    "    dobreta=dict(mehadia=75),\n",
    "    eforie=dict(hirsova=86),\n",
    "    fagaras=dict(sibiu=99),\n",
    "    hirsova=dict(urziceni=98),\n",
    "    iasi=dict(vaslui=92, neamt=87),\n",
    "    lugoj=dict(timisoara=111, mehadia=70),\n",
    "    oradea=dict(zerind=71, sibiu=151),\n",
    "    pitesti=dict(rimnicuvilcea=97),\n",
    "    rimnicuvilcea=dict(sibiu=80),\n",
    "    urziceni=dict(vaslui=142)))\n",
    "\n",
    "\n",
    "def interconnect(graph):\n",
    "    \"\"\"Interconnect takes a graph and makes it interconnected, connecting each node to every other node\"\"\"\n",
    "    cities = graph.nodes()\n",
    "    for x in range(len(cities)):\n",
    "        for y in range(len(cities)):\n",
    "            if graph.get(cities[x], cities[y]) == None:\n",
    "                graph.connect(cities[x], cities[y])"
   ],
   "metadata": {
    "collapsed": false,
    "pycharm": {
     "name": "#%%\n",
     "is_executing": false
    }
   }
  },
  {
   "cell_type": "markdown",
   "source": [
    "For the class problem set up, I set a state to simply be a list\n",
    "of cities along the route. Actions swapped cities in the route, \n",
    "and value is determined by the total path cost.\n"
   ],
   "metadata": {
    "collapsed": false
   }
  },
  {
   "cell_type": "code",
   "execution_count": 5,
   "outputs": [],
   "source": [
    "class TSP(Problem):\n",
    "    \"\"\"\n",
    "    This implements the traveling-sales person problem for local search.\n",
    "    It requires an undirected graph, with distances between cities.\n",
    "\n",
    "    State representation:\n",
    "        [city1, city2, ... , cityn]\n",
    "        A list of the progression from city to city\n",
    "    Action representation:\n",
    "        [index1, index2]\n",
    "        The index spots of the cities to be swapped in the route order\n",
    "    \"\"\"\n",
    "    def __init__(self, initial, graph):\n",
    "        self.initial = initial\n",
    "        self.graph = graph\n",
    "\n",
    "    def actions(self, state):\n",
    "        \"\"\"Actions swaps two cities in the route list\"\"\"\n",
    "        rand = random.randrange(0, len(state), 1)\n",
    "        rand2 = random.randrange(0, len(state), 1)\n",
    "        actions = [[rand, rand2]]\n",
    "        return actions\n",
    "\n",
    "    def result(self, state, action):\n",
    "        \"\"\"Makes the given action on a copy of the board\"\"\"\n",
    "        new_state = state[:]\n",
    "        temp = new_state[action[0]]\n",
    "        new_state[action[0]] = new_state[action[1]]\n",
    "        new_state[action[1]] = temp\n",
    "        return new_state\n",
    "\n",
    "    def goal_test(self, state):\n",
    "        \"\"\"Checks to see if every city was visited, and if the start and end city are the same\"\"\"\n",
    "        # Get list of all cities\n",
    "        cities = self.graph.nodes()\n",
    "        # Check to see if each city is in the given state\n",
    "        for iter in range(len(cities)):\n",
    "            if cities[iter] not in state:\n",
    "                return False\n",
    "\n",
    "        # Make sure the start and end cities are the same\n",
    "        if state[0] != state[-1]:\n",
    "            return False\n",
    "\n",
    "        return True\n",
    "\n",
    "    def value(self, state):\n",
    "        \"\"\"Adds up the cost of the path for the given state\"\"\"\n",
    "        cost = 0\n",
    "        for index in range(len(state) - 1):\n",
    "            if state[index] == state[index+1]: cost += 0\n",
    "            else:\n",
    "                cost += self.graph.get(state[index], state[index+1])\n",
    "        return cost * -1"
   ],
   "metadata": {
    "collapsed": false,
    "pycharm": {
     "name": "#%%\n",
     "is_executing": false
    }
   }
  },
  {
   "cell_type": "markdown",
   "source": [
    "My implementation can be tried on both the simple TSP world, \n",
    "and the romania world."
   ],
   "metadata": {
    "collapsed": false
   }
  },
  {
   "cell_type": "code",
   "execution_count": 6,
   "outputs": [],
   "source": [
    "# Initial route for very simple tsp world\n",
    "tsp_route = ['D', 'C', 'A', 'B','F', 'E', 'D']\n",
    "\n",
    "# Initial route for more complicated romania world\n",
    "interconnect(romania)\n",
    "romania_route = romania.nodes()\n",
    "# Make initial state start and end at the same city\n",
    "romania_route.append(romania_route[0])\n",
    "\n",
    "# create the problems\n",
    "# romania world: TSP(romania_route, romania)\n",
    "# tsp world: TSP(tsp_route, TSP_world)\n",
    "p = TSP(romania_route, romania)\n"
   ],
   "metadata": {
    "collapsed": false,
    "pycharm": {
     "name": "#%%\n",
     "is_executing": false
    }
   }
  },
  {
   "cell_type": "code",
   "execution_count": 7,
   "outputs": [
    {
     "name": "stdout",
     "text": [
      "\n",
      "Hill-climbing:\n",
      "\tSolution:\t['lugoj', 'mehadia', 'giurgiu', 'hirsova', 'sibiu', 'rimnicuvilcea', 'zerind', 'vaslui', 'urziceni', 'dobreta', 'fagaras', 'iasi', 'bucharest', 'craiova', 'arad', 'oradea', 'neamt', 'eforie', 'pitesti', 'timisoara', 'lugoj']\n",
      "\tValue:\t\t-419\n",
      "\tGoal?\t\tTrue\n"
     ],
     "output_type": "stream"
    }
   ],
   "source": [
    "# Try solving the problem with hill climbing\n",
    "hill_solution = hill_climbing(p)\n",
    "print('\\nHill-climbing:')\n",
    "print('\\tSolution:\\t' + str(hill_solution))\n",
    "print('\\tValue:\\t\\t' + str(p.value(hill_solution)))\n",
    "print('\\tGoal?\\t\\t' + str(p.goal_test(hill_solution)))"
   ],
   "metadata": {
    "collapsed": false,
    "pycharm": {
     "name": "#%%\n",
     "is_executing": false
    }
   }
  },
  {
   "cell_type": "markdown",
   "source": [
    "Hill-climbing does an ok job on this problem, especially compared to simulated annealing. It's value isn't\n",
    "necessarily always the best, but it more often presents a True goal state, which I think is more important in the end.\n",
    "Still, it doesn't do a great job overall. It's not an ideal solution to the problem.\n",
    "\n",
    "On the Romania board the best True route hill-climbing found was with a value of -20. \n",
    "However this possibly globally optimal solution doesn't appear often. More often I got a local maximum of -170. \n",
    "\n",
    "On the TSP world I most often get a solution with value -48. There aren't many frequent other\n",
    "solutions found. \n",
    "\n",
    "Overall, a big issue I've found with hill-climbing for this problem is that it doesn't adjust the \n",
    "initial state you give it very much. That initial state is very indicative of what its final\n",
    "solution will be. This isn't good, because the initial states given are something fairly random, \n",
    "not designed to be close to the global solution."
   ],
   "metadata": {
    "collapsed": false
   }
  },
  {
   "cell_type": "code",
   "execution_count": 8,
   "outputs": [
    {
     "name": "stdout",
     "text": [
      "\n",
      "Simulated annealing:\n",
      "\tSolution:\t['lugoj', 'lugoj', 'fagaras', 'arad', 'dobreta', 'hirsova', 'pitesti', 'timisoara', 'giurgiu', 'eforie', 'urziceni', 'sibiu', 'mehadia', 'bucharest', 'iasi', 'rimnicuvilcea', 'oradea', 'neamt', 'vaslui', 'craiova', 'zerind']\n",
      "\tValue:\t\t-19\n",
      "\tGoal?\t\tFalse\n"
     ],
     "output_type": "stream"
    }
   ],
   "source": [
    "# Try solving the problem with simulated annealing\n",
    "annealing_solution = \\\n",
    "    simulated_annealing(p, exp_schedule(k=20, lam=0.005, limit=10000))\n",
    "print('\\nSimulated annealing:')\n",
    "print('\\tSolution:\\t' + str(annealing_solution))\n",
    "print('\\tValue:\\t\\t' + str(p.value(annealing_solution)))\n",
    "print('\\tGoal?\\t\\t' + str(p.goal_test(annealing_solution)))\n"
   ],
   "metadata": {
    "collapsed": false,
    "pycharm": {
     "name": "#%%\n",
     "is_executing": false
    }
   }
  },
  {
   "cell_type": "markdown",
   "source": [
    "Simulated Annealing often reports better valued solutions than hill-climbing,\n",
    "but those solutions are often not a goal state. Since solutions don't seem very \n",
    "meaningful if they're not true simulated annealing doesn't work as well as hill-climbing.\n",
    "This surprises me: I thought simulated annealing would be able to get out of the local maximum\n",
    "given by the initial state, and would make its way to a global max.\n",
    "\n",
    "These observations were the same for both the TSP world and the romania world. \n",
    "There wasn't really a strong functional difference between the two."
   ],
   "metadata": {
    "collapsed": false
   }
  },
  {
   "cell_type": "markdown",
   "source": [
    "## 1.3 - Course Scheduling"
   ],
   "metadata": {
    "collapsed": false
   }
  },
  {
   "cell_type": "markdown",
   "source": [
    "For this constraint problem I chose the classes to be the variables that take on the different\n",
    "values of faculty, time, and classroom. This was the recommended way to set up the problem, \n",
    "and also made sense from a logical approach to it. \n",
    "\n",
    "The domain is a dictionary with every class being a key, and the value each key contains is\n",
    "a list of lists containing the combinations of every single class. These combos are in \n",
    "the form [faculty, class time, classroom]. \n",
    "\n",
    "The neighbors is a dictionary where again every class is a key, and then the values each \n",
    "key takes on is every other class, not including itself. Everyone is a neighbor to everyone \n",
    "except themselves.\n",
    "\n",
    "The constraint function takes two classes, with a random combination attached to each \n",
    "of them. Constraints are checked to see if this certain pairing breaks any constraints or not.\n",
    "The benefit of making the values in the domain dictionary a list arises here, because\n",
    "faculty, time, and room values can all be checked against the constraints, simply by \n",
    "indexing the given combo list. This fact is a very important part of making this whole thing work.\n",
    "\n",
    "With all of this set-up correctly, the CSP class is called, and has pre-defined functions\n",
    "there to do all the computation. Min-conflicts was used because it's a good function \n",
    "for simple conflict problems, like this one.\n"
   ],
   "metadata": {
    "collapsed": false
   }
  },
  {
   "cell_type": "code",
   "execution_count": null,
   "outputs": [],
   "source": [
    "\"\"\"\n",
    "Uses the CSP set-up to create a schedule constraint problem.\n",
    "Classes are the variables, and the different faculty, class times, and classrooms are values that\n",
    "    the classes can take on.\n",
    "\n",
    "Created by: Tyler Poel, for CS344, Homework01, at Calvin University\n",
    "Date: February 27, 2020\n",
    "\"\"\"\n",
    "\n",
    "from csp import CSP,  min_conflicts, backtracking_search, AC3, parse_neighbors\n",
    "from search import depth_first_graph_search\n",
    "\n",
    "def schedule():\n",
    "    \"\"\"CSP set-up for a class scheduling problem.\"\"\"\n",
    "\n",
    "    classes = 'cs108 cs112 cs214 cs374 cs344 cs212'.split()\n",
    "    faculty = 'Schuurman Adams Vanderlinden Plantinga'.split()\n",
    "    times = 'mwf9 mwf10 mwf11 mwf12'.split()\n",
    "    rooms = 'nh253 sb382'.split()\n",
    "\n",
    "    # create every [professor, time, room] combo\n",
    "    combo = [0] * 32\n",
    "    i = 0\n",
    "    for x in range(len(faculty)):\n",
    "        for y in range(len(times)):\n",
    "            for z in range(len(rooms)):\n",
    "                combo[i] = [faculty[x], times[y], rooms[z]]\n",
    "                i += 1\n",
    "\n",
    "    # Each class gets every single combination\n",
    "    domains = {}\n",
    "    for course in classes:\n",
    "        domains[course] = combo\n",
    "\n",
    "    # Everyone is a neighbor with everyone but themselves\n",
    "    neighbors = parse_neighbors(\"\"\"\n",
    "            cs108: cs112 cs214 cs374 cs344 cs212;\n",
    "            cs112: cs214 cs374 cs344 cs212;\n",
    "            cs214: cs374 cs344 cs212;\n",
    "            cs374: cs344 cs212;\n",
    "            cs344: cs212;\n",
    "            cs212: \"\"\")\n",
    "\n",
    "    def schedule_constraint(A, a, B, b):\n",
    "        \"\"\"Codes the constraints the problem must follow\"\"\"\n",
    "        # There can only be one instance of a class\n",
    "        if A == B:\n",
    "            return False\n",
    "\n",
    "        # Certain professors only teach certain classes\n",
    "        if A == 'cs108' and a[0] != 'Vanderlinden':\n",
    "            return False\n",
    "        if B == 'cs108' and b[0] != 'Vanderlinden':\n",
    "            return False\n",
    "        if A == 'cs344' and a[0] != 'Vanderlinden':\n",
    "            return False\n",
    "        if B == 'cs344' and b[0] != 'Vanderlinden':\n",
    "            return False\n",
    "        if A == 'cs374' and a[0] != 'Adams':\n",
    "            return False\n",
    "        if B == 'cs374' and b[0] != 'Adams':\n",
    "            return False\n",
    "        if A == 'cs112' and a[0] != 'Adams':\n",
    "            return False\n",
    "        if B == 'cs112' and b[0] != 'Adams':\n",
    "            return False\n",
    "        if A == 'cs212' and a[0] != 'Plantinga':\n",
    "            return False\n",
    "        if B == 'cs212' and b[0] != 'Plantinga':\n",
    "            return False\n",
    "        if A == 'cs214' and a[0] != 'Schuurman':\n",
    "            return False\n",
    "        if B == 'cs214' and b[0] != 'Schuurman':\n",
    "            return False\n",
    "\n",
    "        # a professor cannot teach two classes at the same time\n",
    "        if a[0] == b[0] and a[1] == b[1]:\n",
    "            return False\n",
    "        # Two classes cannot be in the same room at the same time\n",
    "        if a[1] == b[1] and a[2] == b[2]:\n",
    "            return False\n",
    "\n",
    "        return True\n",
    "\n",
    "    return CSP(classes, domains, neighbors, schedule_constraint)\n"
   ],
   "metadata": {
    "collapsed": false,
    "pycharm": {
     "name": "#%%\n"
    }
   }
  },
  {
   "cell_type": "code",
   "execution_count": null,
   "outputs": [],
   "source": [
    "result = min_conflicts(schedule(), max_steps=1000)\n",
    "\n",
    "if result is None:\n",
    "    print(\"No solution found\")\n",
    "else:\n",
    "    print(\"Solution!\")\n",
    "    print(result)\n"
   ],
   "metadata": {
    "collapsed": false,
    "pycharm": {
     "name": "#%%\n"
    }
   }
  },
  {
   "cell_type": "markdown",
   "source": [
    "result = min_conflicts(schedule(), max_steps=1000)\n",
    "\n",
    "if result is None:\n",
    "    print(\"No solution found\")\n",
    "else:\n",
    "    print(\"Solution!\")\n",
    "    print(result)\n"
   ],
   "metadata": {
    "collapsed": false
   }
  },
  {
   "cell_type": "code",
   "execution_count": 9,
   "outputs": [],
   "source": [
    "\"\"\"\n",
    "Uses the CSP set-up to create a schedule constraint problem.\n",
    "Classes are the variables, and the different faculty, class times, and classrooms are values that\n",
    "    the classes can take on.\n",
    "\n",
    "Created by: Tyler Poel, for CS344, Homework01, at Calvin University\n",
    "Date: February 27, 2020\n",
    "\"\"\"\n",
    "\n",
    "from csp import CSP,  min_conflicts, backtracking_search, AC3, parse_neighbors\n",
    "from search import depth_first_graph_search\n",
    "\n",
    "def schedule():\n",
    "    \"\"\"CSP set-up for a class scheduling problem.\"\"\"\n",
    "\n",
    "    classes = 'cs108 cs112 cs214 cs374 cs344 cs212'.split()\n",
    "    faculty = 'Schuurman Adams Vanderlinden Plantinga'.split()\n",
    "    times = 'mwf9 mwf10 mwf11 mwf12'.split()\n",
    "    rooms = 'nh253 sb382'.split()\n",
    "\n",
    "    # create every [professor, time, room] combo\n",
    "    combo = [0] * 32\n",
    "    i = 0\n",
    "    for x in range(len(faculty)):\n",
    "        for y in range(len(times)):\n",
    "            for z in range(len(rooms)):\n",
    "                combo[i] = [faculty[x], times[y], rooms[z]]\n",
    "                i += 1\n",
    "\n",
    "    # Each class gets every single combination\n",
    "    domains = {}\n",
    "    for course in classes:\n",
    "        domains[course] = combo\n",
    "\n",
    "    # Everyone is a neighbor with everyone but themselves\n",
    "    neighbors = parse_neighbors(\"\"\"\n",
    "            cs108: cs112 cs214 cs374 cs344 cs212;\n",
    "            cs112: cs214 cs374 cs344 cs212;\n",
    "            cs214: cs374 cs344 cs212;\n",
    "            cs374: cs344 cs212;\n",
    "            cs344: cs212;\n",
    "            cs212: \"\"\")\n",
    "\n",
    "    def schedule_constraint(A, a, B, b):\n",
    "        \"\"\"Codes the constraints the problem must follow\"\"\"\n",
    "        # There can only be one instance of a class\n",
    "        if A == B:\n",
    "            return False\n",
    "\n",
    "        # Certain professors only teach certain classes\n",
    "        if A == 'cs108' and a[0] != 'Vanderlinden':\n",
    "            return False\n",
    "        if B == 'cs108' and b[0] != 'Vanderlinden':\n",
    "            return False\n",
    "        if A == 'cs344' and a[0] != 'Vanderlinden':\n",
    "            return False\n",
    "        if B == 'cs344' and b[0] != 'Vanderlinden':\n",
    "            return False\n",
    "        if A == 'cs374' and a[0] != 'Adams':\n",
    "            return False\n",
    "        if B == 'cs374' and b[0] != 'Adams':\n",
    "            return False\n",
    "        if A == 'cs112' and a[0] != 'Adams':\n",
    "            return False\n",
    "        if B == 'cs112' and b[0] != 'Adams':\n",
    "            return False\n",
    "        if A == 'cs212' and a[0] != 'Plantinga':\n",
    "            return False\n",
    "        if B == 'cs212' and b[0] != 'Plantinga':\n",
    "            return False\n",
    "        if A == 'cs214' and a[0] != 'Schuurman':\n",
    "            return False\n",
    "        if B == 'cs214' and b[0] != 'Schuurman':\n",
    "            return False\n",
    "\n",
    "        # a professor cannot teach two classes at the same time\n",
    "        if a[0] == b[0] and a[1] == b[1]:\n",
    "            return False\n",
    "        # Two classes cannot be in the same room at the same time\n",
    "        if a[1] == b[1] and a[2] == b[2]:\n",
    "            return False\n",
    "\n",
    "        return True\n",
    "\n",
    "    return CSP(classes, domains, neighbors, schedule_constraint)\n"
   ],
   "metadata": {
    "collapsed": false,
    "pycharm": {
     "name": "#%%\n",
     "is_executing": false
    }
   }
  },
  {
   "cell_type": "code",
   "execution_count": 10,
   "outputs": [
    {
     "name": "stdout",
     "text": [
      "Solution!\n",
      "{'cs108': ['Vanderlinden', 'mwf9', 'sb382'], 'cs112': ['Adams', 'mwf11', 'nh253'], 'cs214': ['Schuurman', 'mwf10', 'sb382'], 'cs374': ['Adams', 'mwf12', 'nh253'], 'cs344': ['Vanderlinden', 'mwf12', 'sb382'], 'cs212': ['Plantinga', 'mwf11', 'sb382']}\n"
     ],
     "output_type": "stream"
    }
   ],
   "source": [
    "result = min_conflicts(schedule(), max_steps=1000)\n",
    "\n",
    "if result is None:\n",
    "    print(\"No solution found\")\n",
    "else:\n",
    "    print(\"Solution!\")\n",
    "    print(result)\n"
   ],
   "metadata": {
    "collapsed": false,
    "pycharm": {
     "name": "#%%\n",
     "is_executing": false
    }
   }
  }
 ],
 "metadata": {
  "kernelspec": {
   "display_name": "Python 3",
   "language": "python",
   "name": "python3"
  },
  "language_info": {
   "codemirror_mode": {
    "name": "ipython",
    "version": 2
   },
   "file_extension": ".py",
   "mimetype": "text/x-python",
   "name": "python",
   "nbconvert_exporter": "python",
   "pygments_lexer": "ipython2",
   "version": "2.7.6"
  },
  "pycharm": {
   "stem_cell": {
    "cell_type": "raw",
    "source": [],
    "metadata": {
     "collapsed": false
    }
   }
  }
 },
 "nbformat": 4,
 "nbformat_minor": 0
}