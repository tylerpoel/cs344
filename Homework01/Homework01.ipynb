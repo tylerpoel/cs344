{
 "cells": [
  {
   "cell_type": "markdown",
   "metadata": {
    "collapsed": true,
    "pycharm": {
     "name": "#%% md\n"
    }
   },
   "source": [
    "# Homework 1"
   ]
  },
  {
   "cell_type": "markdown",
   "source": [
    "## 1.1 - Psychologists and AI\n"
   ],
   "metadata": {
    "collapsed": false,
    "pycharm": {
     "name": "#%% md\n"
    }
   }
  },
  {
   "cell_type": "markdown",
   "source": [
    "I don't believe that simple introspection would be a good way \n",
    "for researchers to gain insight into human cognitive processes. \n",
    "For some, introspection could be a good method for simple\n",
    "meditation, or for sorting out one's feelings, however to use\n",
    "it as an actual scientific discipline seems like a reliance\n",
    "on bad evidence, especially with the goal of modelling said\n",
    "processes. \n",
    "\n",
    "Through introspection one may believe they know \"how\" they think,\n",
    "or how their brain works, but there's really no facts presented\n",
    "with a conclusion like that. It's mere conjecture. If researchers\n",
    "truly wanted to model the processes the human brain goes through,\n",
    "they should set up some kind of experiment that can monitor \n",
    "brain activity. I think using introspection does not provide enough\n",
    "evidence, it's only someone's guesses as to how something works."
   ],
   "metadata": {
    "collapsed": false
   }
  },
  {
   "cell_type": "markdown",
   "source": [
    "## 1.2 - TSP Problem"
   ],
   "metadata": {
    "collapsed": false
   }
  },
  {
   "cell_type": "markdown",
   "source": [
    "\n"
   ],
   "metadata": {
    "collapsed": false
   }
  }
 ],
 "metadata": {
  "kernelspec": {
   "display_name": "Python 3",
   "language": "python",
   "name": "python3"
  },
  "language_info": {
   "codemirror_mode": {
    "name": "ipython",
    "version": 2
   },
   "file_extension": ".py",
   "mimetype": "text/x-python",
   "name": "python",
   "nbconvert_exporter": "python",
   "pygments_lexer": "ipython2",
   "version": "2.7.6"
  },
  "pycharm": {
   "stem_cell": {
    "cell_type": "raw",
    "source": [],
    "metadata": {
     "collapsed": false
    }
   }
  }
 },
 "nbformat": 4,
 "nbformat_minor": 0
}