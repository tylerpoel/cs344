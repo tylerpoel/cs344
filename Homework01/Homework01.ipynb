{
 "cells": [
  {
   "cell_type": "markdown",
   "metadata": {
    "collapsed": true,
    "pycharm": {
     "name": "#%% md\n"
    }
   },
   "source": [
    "# Homework 1"
   ]
  },
  {
   "cell_type": "markdown",
   "source": [
    "## 1.1 - Psychologists and AI\n"
   ],
   "metadata": {
    "collapsed": false,
    "pycharm": {
     "name": "#%% md\n"
    }
   }
  },
  {
   "cell_type": "markdown",
   "source": [
    "I don't believe that simple introspection would be a good way \n",
    "for researchers to gain insight into human cognitive processes. \n",
    "For some, introspection could be a good method for simple\n",
    "meditation, or for sorting out one's feelings, however to use\n",
    "it as an actual scientific discipline seems like a reliance\n",
    "on bad evidence, especially with the goal of modelling said\n",
    "processes. \n",
    "\n",
    "Through introspection one may believe they know \"how\" they think,\n",
    "or how their brain works, but there's really no facts presented\n",
    "with a conclusion like that. It's mere conjecture. If researchers\n",
    "truly wanted to model the processes the human brain goes through,\n",
    "they should set up some kind of experiment that can monitor \n",
    "brain activity. I think using introspection does not provide enough\n",
    "evidence, it's only someone's guesses as to how something works."
   ],
   "metadata": {
    "collapsed": false
   }
  },
  {
   "cell_type": "markdown",
   "source": [
    "## 1.2 - TSP Problem"
   ],
   "metadata": {
    "collapsed": false
   }
  },
  {
   "cell_type": "markdown",
   "source": [
    "I set up my TSP \"world\" as an undirected, interconnected graph.\n",
    "For testing purposes I made this graph very small and simple.\n",
    "\n"
   ],
   "metadata": {
    "collapsed": false
   }
  },
  {
   "cell_type": "code",
   "source": [
    "# Imports\n",
    "from search import UndirectedGraph, Problem, \n",
    "    hill_climbing, \\simulated_annealing, exp_schedule\n",
    "import random"
   ],
   "metadata": {
    "collapsed": false,
    "pycharm": {
     "name": "#%%\n"
    }
   },
   "execution_count": null,
   "outputs": []
  },
  {
   "cell_type": "code",
   "execution_count": null,
   "outputs": [],
   "source": [
    "TSP_world = UndirectedGraph(dict(\n",
    "    A=dict(B=1, C=7, D=3, E=6, F=22),\n",
    "    B=dict(C=5, D=2, E=14, F=3),\n",
    "    C=dict(D=8, E=12, F=15),\n",
    "    D=dict(E=10, F=25),\n",
    "    E=dict(F=20)))\n"
   ],
   "metadata": {
    "collapsed": false,
    "pycharm": {
     "name": "#%%\n"
    }
   }
  },
  {
   "cell_type": "markdown",
   "source": [
    "I also took the romania graph, to use a more complicated\n",
    "example. Because the graph isn't interconnected I created\n",
    "a function to make it so. "
   ],
   "metadata": {
    "collapsed": false
   }
  },
  {
   "cell_type": "code",
   "execution_count": null,
   "outputs": [],
   "source": [
    "romania = UndirectedGraph(dict(\n",
    "    arad=dict(zerind=75, sibiu=140, timisoara=118),\n",
    "    bucharest=dict(urziceni=85, pitesti=101, giurgiu=90, fagaras=211),\n",
    "    craiova=dict(dobreta=120, rimnicuvilcea=146, pitesti=138),\n",
    "    dobreta=dict(mehadia=75),\n",
    "    eforie=dict(hirsova=86),\n",
    "    fagaras=dict(sibiu=99),\n",
    "    hirsova=dict(urziceni=98),\n",
    "    iasi=dict(vaslui=92, neamt=87),\n",
    "    lugoj=dict(timisoara=111, mehadia=70),\n",
    "    oradea=dict(zerind=71, sibiu=151),\n",
    "    pitesti=dict(rimnicuvilcea=97),\n",
    "    rimnicuvilcea=dict(sibiu=80),\n",
    "    urziceni=dict(vaslui=142)))\n",
    "\n",
    "\n",
    "def interconnect(graph):\n",
    "    \"\"\"Interconnect takes a graph and makes it interconnected, connecting each node to every other node\"\"\"\n",
    "    cities = graph.nodes()\n",
    "    for x in range(len(cities)):\n",
    "        for y in range(len(cities)):\n",
    "            if graph.get(cities[x], cities[y]) == None:\n",
    "                graph.connect(cities[x], cities[y])\n"
   ],
   "metadata": {
    "collapsed": false,
    "pycharm": {
     "name": "#%%\n"
    }
   }
  }
 ],
 "metadata": {
  "kernelspec": {
   "display_name": "Python 3",
   "language": "python",
   "name": "python3"
  },
  "language_info": {
   "codemirror_mode": {
    "name": "ipython",
    "version": 2
   },
   "file_extension": ".py",
   "mimetype": "text/x-python",
   "name": "python",
   "nbconvert_exporter": "python",
   "pygments_lexer": "ipython2",
   "version": "2.7.6"
  },
  "pycharm": {
   "stem_cell": {
    "cell_type": "raw",
    "source": [],
    "metadata": {
     "collapsed": false
    }
   }
  }
 },
 "nbformat": 4,
 "nbformat_minor": 0
}