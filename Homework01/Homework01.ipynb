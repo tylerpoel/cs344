{
 "cells": [
  {
   "cell_type": "markdown",
   "metadata": {
    "collapsed": true,
    "pycharm": {
     "name": "#%% md\n"
    }
   },
   "source": [
    "# Homework 1"
   ]
  },
  {
   "cell_type": "markdown",
   "source": [
    "## 1.1 - Psychologists and AI\n"
   ],
   "metadata": {
    "collapsed": false,
    "pycharm": {
     "name": "#%% md\n"
    }
   }
  },
  {
   "cell_type": "markdown",
   "source": [
    "I don't believe that simple introspection would be a good way \n",
    "for researchers to gain insight into human cognitive processes. \n",
    "For some, introspection could be a good method for simple\n",
    "meditation, or for sorting out one's feelings, however to use\n",
    "it as an actual scientific discipline seems like a reliance\n",
    "on bad evidence, especially with the goal of modelling said\n",
    "processes. \n",
    "\n",
    "Through introspection one may believe they know \"how\" they think,\n",
    "or how their brain works, but there's really no facts presented\n",
    "with a conclusion like that. It's mere conjecture. If researchers\n",
    "truly wanted to model the processes the human brain goes through,\n",
    "they should set up some kind of experiment that can monitor \n",
    "brain activity. I think using introspection does not provide enough\n",
    "evidence, it's only someone's guesses as to how something works."
   ],
   "metadata": {
    "collapsed": false
   }
  },
  {
   "cell_type": "markdown",
   "source": [
    "## 1.2 - TSP Problem"
   ],
   "metadata": {
    "collapsed": false
   }
  },
  {
   "cell_type": "markdown",
   "source": [
    "I set up my TSP \"world\" as an undirected, interconnected graph.\n",
    "For testing purposes I made this graph very small and simple.\n",
    "\n"
   ],
   "metadata": {
    "collapsed": false
   }
  },
  {
   "cell_type": "code",
   "source": [
    "# Imports\n",
    "from search import UndirectedGraph, Problem, hill_climbing, simulated_annealing, exp_schedule\n",
    "import random"
   ],
   "metadata": {
    "collapsed": false,
    "pycharm": {
     "name": "#%%\n"
    }
   },
   "execution_count": null,
   "outputs": []
  },
  {
   "cell_type": "code",
   "execution_count": null,
   "outputs": [],
   "source": [
    "TSP_world = UndirectedGraph(dict(\n",
    "    A=dict(B=1, C=7, D=3, E=6, F=22),\n",
    "    B=dict(C=5, D=2, E=14, F=3),\n",
    "    C=dict(D=8, E=12, F=15),\n",
    "    D=dict(E=10, F=25),\n",
    "    E=dict(F=20)))\n"
   ],
   "metadata": {
    "collapsed": false,
    "pycharm": {
     "name": "#%%\n"
    }
   }
  },
  {
   "cell_type": "markdown",
   "source": [
    "I also took the romania graph, to use a more complicated\n",
    "example. Because the graph isn't interconnected I created\n",
    "a function to make it so. "
   ],
   "metadata": {
    "collapsed": false
   }
  },
  {
   "cell_type": "code",
   "execution_count": null,
   "outputs": [],
   "source": [
    "romania = UndirectedGraph(dict(\n",
    "    arad=dict(zerind=75, sibiu=140, timisoara=118),\n",
    "    bucharest=dict(urziceni=85, pitesti=101, giurgiu=90, fagaras=211),\n",
    "    craiova=dict(dobreta=120, rimnicuvilcea=146, pitesti=138),\n",
    "    dobreta=dict(mehadia=75),\n",
    "    eforie=dict(hirsova=86),\n",
    "    fagaras=dict(sibiu=99),\n",
    "    hirsova=dict(urziceni=98),\n",
    "    iasi=dict(vaslui=92, neamt=87),\n",
    "    lugoj=dict(timisoara=111, mehadia=70),\n",
    "    oradea=dict(zerind=71, sibiu=151),\n",
    "    pitesti=dict(rimnicuvilcea=97),\n",
    "    rimnicuvilcea=dict(sibiu=80),\n",
    "    urziceni=dict(vaslui=142)))\n",
    "\n",
    "\n",
    "def interconnect(graph):\n",
    "    \"\"\"Interconnect takes a graph and makes it interconnected, connecting each node to every other node\"\"\"\n",
    "    cities = graph.nodes()\n",
    "    for x in range(len(cities)):\n",
    "        for y in range(len(cities)):\n",
    "            if graph.get(cities[x], cities[y]) == None:\n",
    "                graph.connect(cities[x], cities[y])"
   ],
   "metadata": {
    "collapsed": false,
    "pycharm": {
     "name": "#%%\n"
    }
   }
  },
  {
   "cell_type": "markdown",
   "source": [
    "For the class problem set up, I set a state to simply be a list\n",
    "of cities along the route. Actions swapped cities in the route, \n",
    "and value is determined by the total path cost.\n"
   ],
   "metadata": {
    "collapsed": false
   }
  },
  {
   "cell_type": "code",
   "execution_count": null,
   "outputs": [],
   "source": [
    "class TSP(Problem):\n",
    "    \"\"\"\n",
    "    This implements the traveling-sales person problem for local search.\n",
    "    It requires an undirected graph, with distances between cities.\n",
    "\n",
    "    State representation:\n",
    "        [city1, city2, ... , cityn]\n",
    "        A list of the progression from city to city\n",
    "    Action representation:\n",
    "        [index1, index2]\n",
    "        The index spots of the cities to be swapped in the route order\n",
    "    \"\"\"\n",
    "    def __init__(self, initial, graph):\n",
    "        self.initial = initial\n",
    "        self.graph = graph\n",
    "\n",
    "    def actions(self, state):\n",
    "        \"\"\"Actions swaps two cities in the route list\"\"\"\n",
    "        rand = random.randrange(0, len(state), 1)\n",
    "        rand2 = random.randrange(0, len(state), 1)\n",
    "        actions = [[rand, rand2]]\n",
    "        return actions\n",
    "\n",
    "    def result(self, state, action):\n",
    "        \"\"\"Makes the given action on a copy of the board\"\"\"\n",
    "        new_state = state[:]\n",
    "        temp = new_state[action[0]]\n",
    "        new_state[action[0]] = new_state[action[1]]\n",
    "        new_state[action[1]] = temp\n",
    "        return new_state\n",
    "\n",
    "    def goal_test(self, state):\n",
    "        \"\"\"Checks to see if every city was visited, and if the start and end city are the same\"\"\"\n",
    "        # Get list of all cities\n",
    "        cities = self.graph.nodes()\n",
    "        # Check to see if each city is in the given state\n",
    "        for iter in range(len(cities)):\n",
    "            if cities[iter] not in state:\n",
    "                return False\n",
    "\n",
    "        # Make sure the start and end cities are the same\n",
    "        if state[0] != state[-1]:\n",
    "            return False\n",
    "\n",
    "        return True\n",
    "\n",
    "    def value(self, state):\n",
    "        \"\"\"Adds up the cost of the path for the given state\"\"\"\n",
    "        cost = 0\n",
    "        for index in range(len(state) - 1):\n",
    "            if state[index] == state[index+1]: cost += 0\n",
    "            else:\n",
    "                cost += self.graph.get(state[index], state[index+1])\n",
    "        return cost * -1"
   ],
   "metadata": {
    "collapsed": false,
    "pycharm": {
     "name": "#%%\n"
    }
   }
  },
  {
   "cell_type": "markdown",
   "source": [
    "My implementation can be tried on both the simle TSP world, \n",
    "and the romania world."
   ],
   "metadata": {
    "collapsed": false
   }
  },
  {
   "cell_type": "code",
   "execution_count": null,
   "outputs": [],
   "source": [
    "# Initial route for very simple tsp world\n",
    "tsp_route = ['D', 'C', 'A', 'B','F', 'D']\n",
    "\n",
    "# Initial route for more complicated romania world\n",
    "interconnect(romania)\n",
    "romania_route = romania.nodes()\n",
    "# Make initial state start and end at the same city\n",
    "romania_route.append(romania_route[0])\n",
    "\n",
    "# create the problems\n",
    "# romania world: TSP(romania_route, romania)\n",
    "# tsp world: TSP(tsp_route, TSP_world)\n",
    "p = TSP(tsp_route, TSP_world)\n"
   ],
   "metadata": {
    "collapsed": false,
    "pycharm": {
     "name": "#%%\n"
    }
   }
  },
  {
   "cell_type": "markdown",
   "source": [],
   "metadata": {
    "collapsed": false
   }
  },
  {
   "cell_type": "code",
   "execution_count": null,
   "outputs": [],
   "source": [
    "# Try solving the problem with hill climbing\n",
    "hill_solution = hill_climbing(p)\n",
    "print('\\nHill-climbing:')\n",
    "print('\\tSolution:\\t' + str(hill_solution))\n",
    "print('\\tValue:\\t\\t' + str(p.value(hill_solution)))\n",
    "print('\\tGoal?\\t\\t' + str(p.goal_test(hill_solution)))"
   ],
   "metadata": {
    "collapsed": false,
    "pycharm": {
     "name": "#%%\n"
    }
   }
  },
  {
   "cell_type": "markdown",
   "source": [],
   "metadata": {
    "collapsed": false
   }
  },
  {
   "cell_type": "code",
   "execution_count": null,
   "outputs": [],
   "source": [
    "# Try solving the problem with simulated annealing\n",
    "annealing_solution = \\\n",
    "    simulated_annealing(p, exp_schedule(k=20, lam=0.005, limit=10000))\n",
    "print('\\nSimulated annealing:')\n",
    "print('\\tSolution:\\t' + str(annealing_solution))\n",
    "print('\\tValue:\\t\\t' + str(p.value(annealing_solution)))\n",
    "print('\\tGoal?\\t\\t' + str(p.goal_test(annealing_solution)))\n",
    "\n",
    "\n"
   ],
   "metadata": {
    "collapsed": false,
    "pycharm": {
     "name": "#%%\n"
    }
   }
  }
 ],
 "metadata": {
  "kernelspec": {
   "display_name": "Python 3",
   "language": "python",
   "name": "python3"
  },
  "language_info": {
   "codemirror_mode": {
    "name": "ipython",
    "version": 2
   },
   "file_extension": ".py",
   "mimetype": "text/x-python",
   "name": "python",
   "nbconvert_exporter": "python",
   "pygments_lexer": "ipython2",
   "version": "2.7.6"
  },
  "pycharm": {
   "stem_cell": {
    "cell_type": "raw",
    "source": [],
    "metadata": {
     "collapsed": false
    }
   }
  }
 },
 "nbformat": 4,
 "nbformat_minor": 0
}