{
 "cells": [
  {
   "cell_type": "markdown",
   "metadata": {
    "collapsed": true,
    "pycharm": {
     "name": "#%% md\n"
    }
   },
   "source": [
    "# Homework 03\n",
    "\n",
    "## 3.1 - Restaurant Price Information Gain"
   ]
  },
  {
   "cell_type": "markdown",
   "source": [
    "Information gain is defined as: \n",
    "Gain(A) = Entropy(V) - Remainder(A)\n",
    "\n",
    "Remainder(Price) = 7/12 * Entropy(cheap) + 2/12 * Entropy(mid-level) + 3/12 * Entropy(expensive)\n",
    "\n",
    "Remainder(Price) = (7/12)*-1*((4/7)*lg(4/7)+(3/7)*lg(3/7)) + 0 + (3/12)*-1*((2/3)*lg(2/3)+(1/3)*lg(1/3))\n",
    "= 0.57 + 0 + 0.2 = 0.8.\n",
    "\n",
    "Therefore the Information Gain of Price is 1 - 0.8 = 0.2. \n",
    "\n",
    "This is more valuable than the type attribute (gain of 0), but less valuable than the \n",
    "patrons attribute (0.54 gain)."
   ],
   "metadata": {
    "collapsed": false
   }
  },
  {
   "cell_type": "markdown",
   "source": [
    "## 3.2 - XOR Neural Network"
   ],
   "metadata": {
    "collapsed": false
   }
  },
  {
   "cell_type": "markdown",
   "source": [
    "With the neural network we created by hand in class, in was not possible to learn \n",
    "the XOR function, even though we were able to make it learn AND and OR. This is because\n",
    "AND and OR are learned through linear separation: in both cases a straight line can be drawn \n",
    "on the theoretical graph where the answers lie, and this line can cleanly separate \n",
    "the 1's and 0's, having them on each side of the line. The XOR function is not \n",
    "linearly separable, and therefore can't be learned by the Perceptron learning rule."
   ],
   "metadata": {
    "collapsed": false
   }
  },
  {
   "cell_type": "markdown",
   "source": [
    "## 3.3 - Pandas"
   ],
   "metadata": {
    "collapsed": false
   }
  },
  {
   "cell_type": "code",
   "execution_count": 7,
   "outputs": [],
   "source": [
    "# Imports\n",
    "from keras.datasets import boston_housing\n",
    "import pandas as pd\n",
    "import numpy as np"
   ],
   "metadata": {
    "collapsed": false,
    "pycharm": {
     "name": "#%%\n",
     "is_executing": false
    }
   }
  },
  {
   "cell_type": "code",
   "execution_count": 4,
   "outputs": [],
   "source": [
    "# Bringing in the data\n",
    "(train_data, train_targets), (test_data, test_targets) = boston_housing.load_data()"
   ],
   "metadata": {
    "collapsed": false,
    "pycharm": {
     "name": "#%%\n",
     "is_executing": false
    }
   }
  },
  {
   "cell_type": "code",
   "execution_count": 5,
   "outputs": [
    {
     "name": "stdout",
     "text": [
      "Training data shape:\t (404, 13)\n",
      "Training targets shape:\t (404,)\n",
      "Testing data shape:\t (102, 13)\n",
      "Testing targets shape:\t (102,)\n"
     ],
     "output_type": "stream"
    }
   ],
   "source": [
    "# Displaying the dimensions of the data structures.\n",
    "print(\"Training data shape:\\t\", train_data.shape)\n",
    "print(\"Training targets shape:\\t\", train_targets.shape)\n",
    "print(\"Testing data shape:\\t\", test_data.shape)\n",
    "print(\"Testing targets shape:\\t\", test_targets.shape)"
   ],
   "metadata": {
    "collapsed": false,
    "pycharm": {
     "name": "#%%\n",
     "is_executing": false
    }
   }
  },
  {
   "cell_type": "code",
   "execution_count": 10,
   "outputs": [
    {
     "data": {
      "text/plain": "           0     1      2    3      4      5     6       7     8      9    10  \\\n55   0.06899   0.0  25.65  0.0  0.581  5.870  69.7  2.2577   2.0  188.0  19.1   \n97   0.05188   0.0   4.49  0.0  0.449  6.015  45.1  4.4272   3.0  247.0  18.5   \n22   0.01778  95.0   1.47  0.0  0.403  7.135  13.9  7.6534   3.0  402.0  17.0   \n147  4.34879   0.0  18.10  0.0  0.580  6.167  84.0  3.0334  24.0  666.0  20.2   \n345  1.46336   0.0  19.58  0.0  0.605  7.489  90.8  1.9709   5.0  403.0  14.7   \n\n         11     12  targets  \n55   389.15  14.37     22.0  \n97   395.99  12.86     22.5  \n22   384.30   4.45     32.9  \n147  396.90  16.29     19.9  \n345  374.43   1.73     50.0  ",
      "text/html": "<div>\n<style scoped>\n    .dataframe tbody tr th:only-of-type {\n        vertical-align: middle;\n    }\n\n    .dataframe tbody tr th {\n        vertical-align: top;\n    }\n\n    .dataframe thead th {\n        text-align: right;\n    }\n</style>\n<table border=\"1\" class=\"dataframe\">\n  <thead>\n    <tr style=\"text-align: right;\">\n      <th></th>\n      <th>0</th>\n      <th>1</th>\n      <th>2</th>\n      <th>3</th>\n      <th>4</th>\n      <th>5</th>\n      <th>6</th>\n      <th>7</th>\n      <th>8</th>\n      <th>9</th>\n      <th>10</th>\n      <th>11</th>\n      <th>12</th>\n      <th>targets</th>\n    </tr>\n  </thead>\n  <tbody>\n    <tr>\n      <th>55</th>\n      <td>0.06899</td>\n      <td>0.0</td>\n      <td>25.65</td>\n      <td>0.0</td>\n      <td>0.581</td>\n      <td>5.870</td>\n      <td>69.7</td>\n      <td>2.2577</td>\n      <td>2.0</td>\n      <td>188.0</td>\n      <td>19.1</td>\n      <td>389.15</td>\n      <td>14.37</td>\n      <td>22.0</td>\n    </tr>\n    <tr>\n      <th>97</th>\n      <td>0.05188</td>\n      <td>0.0</td>\n      <td>4.49</td>\n      <td>0.0</td>\n      <td>0.449</td>\n      <td>6.015</td>\n      <td>45.1</td>\n      <td>4.4272</td>\n      <td>3.0</td>\n      <td>247.0</td>\n      <td>18.5</td>\n      <td>395.99</td>\n      <td>12.86</td>\n      <td>22.5</td>\n    </tr>\n    <tr>\n      <th>22</th>\n      <td>0.01778</td>\n      <td>95.0</td>\n      <td>1.47</td>\n      <td>0.0</td>\n      <td>0.403</td>\n      <td>7.135</td>\n      <td>13.9</td>\n      <td>7.6534</td>\n      <td>3.0</td>\n      <td>402.0</td>\n      <td>17.0</td>\n      <td>384.30</td>\n      <td>4.45</td>\n      <td>32.9</td>\n    </tr>\n    <tr>\n      <th>147</th>\n      <td>4.34879</td>\n      <td>0.0</td>\n      <td>18.10</td>\n      <td>0.0</td>\n      <td>0.580</td>\n      <td>6.167</td>\n      <td>84.0</td>\n      <td>3.0334</td>\n      <td>24.0</td>\n      <td>666.0</td>\n      <td>20.2</td>\n      <td>396.90</td>\n      <td>16.29</td>\n      <td>19.9</td>\n    </tr>\n    <tr>\n      <th>345</th>\n      <td>1.46336</td>\n      <td>0.0</td>\n      <td>19.58</td>\n      <td>0.0</td>\n      <td>0.605</td>\n      <td>7.489</td>\n      <td>90.8</td>\n      <td>1.9709</td>\n      <td>5.0</td>\n      <td>403.0</td>\n      <td>14.7</td>\n      <td>374.43</td>\n      <td>1.73</td>\n      <td>50.0</td>\n    </tr>\n  </tbody>\n</table>\n</div>"
     },
     "metadata": {},
     "output_type": "execute_result",
     "execution_count": 10
    }
   ],
   "source": [
    "# Create a data frame \n",
    "df = pd.DataFrame(train_data)\n",
    "df[\"targets\"] = train_targets\n",
    "\n",
    "df_new = df.reindex(np.random.permutation(df.index))\n",
    "df.head()\n",
    "df_new.head()"
   ],
   "metadata": {
    "collapsed": false,
    "pycharm": {
     "name": "#%%\n",
     "is_executing": false
    }
   }
  }
 ],
 "metadata": {
  "kernelspec": {
   "display_name": "Python 3",
   "language": "python",
   "name": "python3"
  },
  "language_info": {
   "codemirror_mode": {
    "name": "ipython",
    "version": 2
   },
   "file_extension": ".py",
   "mimetype": "text/x-python",
   "name": "python",
   "nbconvert_exporter": "python",
   "pygments_lexer": "ipython2",
   "version": "2.7.6"
  },
  "pycharm": {
   "stem_cell": {
    "cell_type": "raw",
    "source": [],
    "metadata": {
     "collapsed": false
    }
   }
  }
 },
 "nbformat": 4,
 "nbformat_minor": 0
}