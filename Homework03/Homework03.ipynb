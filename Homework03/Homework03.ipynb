{
 "cells": [
  {
   "cell_type": "markdown",
   "metadata": {
    "collapsed": true,
    "pycharm": {
     "name": "#%% md\n"
    }
   },
   "source": [
    "# Homework 03\n",
    "\n",
    "## 3.1 - Restaurant Price Information Gain"
   ]
  },
  {
   "cell_type": "markdown",
   "source": [
    "Information gain is defined as: \n",
    "Gain(A) = Entropy(V) - Remainder(A)\n",
    "\n",
    "Remainder(Price) = 7/12 * Entropy(cheap) + 2/12 * Entropy(mid-level) + 3/12 * Entropy(expensive)\n",
    "\n",
    "Remainder(Price) = (7/12)*-1*((4/7)*lg(4/7)+(3/7)*lg(3/7)) + 0 + (3/12)*-1*((2/3)*lg(2/3)+(1/3)*lg(1/3))\n",
    "= 0.57 + 0 + 0.2 = 0.8.\n",
    "\n",
    "Therefore the Information Gain of Price is 1 - 0.8 = 0.2. \n",
    "\n",
    "This is more valuable than the type attribute (gain of 0), but less valuable than the \n",
    "patrons attribute (0.54 gain)."
   ],
   "metadata": {
    "collapsed": false
   }
  },
  {
   "cell_type": "markdown",
   "source": [
    "## 3.2 - XOR Neural Network"
   ],
   "metadata": {
    "collapsed": false
   }
  },
  {
   "cell_type": "markdown",
   "source": [
    "It was possible to create a neural network that learned the XOR function.\n",
    "To simplify this neural network further, the feed-forward rule had to be broken. \n",
    "\n",
    "A neural network that does this is set up as follows: It has two input nodes, \n",
    "both of which are connected to a middle node with a threshold of 1.5, and an output node\n",
    "with a threshold of 0.5. The weights coming from the input nodes are simply 1. \n",
    "The middle node has the initial input nodes going into it, and only goes to the\n",
    "output node, with a weight of -2.\n",
    "The neural network below breaks the feed-forward rule, as the input nodes don't only go\n",
    "to the nodes below it, they also go to the output node.\n",
    "\n",
    "With the middle node having a threshold of 1.5, it only passes its weight to the output node\n",
    "(-2) if the sum of its inputs are greater than 1.5, otherwise it passes 0. Same applies to the \n",
    "output node: it will pass a 1 if the inputs are greater than 0.5, and a 0 if not. This implementation\n",
    "correctly learns the XOR function."
   ],
   "metadata": {
    "collapsed": false
   }
  },
  {
   "cell_type": "markdown",
   "source": [
    "## 3.3 - Pandas"
   ],
   "metadata": {
    "collapsed": false
   }
  },
  {
   "cell_type": "code",
   "execution_count": 7,
   "outputs": [],
   "source": [
    "# Imports\n",
    "from keras.datasets import boston_housing\n",
    "import pandas as pd\n",
    "import numpy as np"
   ],
   "metadata": {
    "collapsed": false,
    "pycharm": {
     "name": "#%%\n",
     "is_executing": false
    }
   }
  },
  {
   "cell_type": "code",
   "execution_count": 4,
   "outputs": [],
   "source": [
    "# Bringing in the data\n",
    "(train_data, train_targets), (test_data, test_targets) = boston_housing.load_data()"
   ],
   "metadata": {
    "collapsed": false,
    "pycharm": {
     "name": "#%%\n",
     "is_executing": false
    }
   }
  },
  {
   "cell_type": "markdown",
   "source": [
    "### 3.3a - Compute the dimensions of the data structures"
   ],
   "metadata": {
    "collapsed": false,
    "pycharm": {
     "name": "#%% md\n"
    }
   }
  },
  {
   "cell_type": "code",
   "execution_count": 5,
   "outputs": [
    {
     "name": "stdout",
     "text": [
      "Training data shape:\t (404, 13)\n",
      "Training targets shape:\t (404,)\n",
      "Testing data shape:\t (102, 13)\n",
      "Testing targets shape:\t (102,)\n"
     ],
     "output_type": "stream"
    }
   ],
   "source": [
    "# Displaying the dimensions of the data structures.\n",
    "print(\"Training data shape:\\t\", train_data.shape)\n",
    "print(\"Training targets shape:\\t\", train_targets.shape)\n",
    "print(\"Testing data shape:\\t\", test_data.shape)\n",
    "print(\"Testing targets shape:\\t\", test_targets.shape)"
   ],
   "metadata": {
    "collapsed": false,
    "pycharm": {
     "name": "#%%\n",
     "is_executing": false
    }
   }
  },
  {
   "cell_type": "markdown",
   "source": [
    "### 3.3b - Construct training, test, and validation sets"
   ],
   "metadata": {
    "collapsed": false,
    "pycharm": {
     "name": "#%% md\n"
    }
   }
  },
  {
   "cell_type": "code",
   "execution_count": 16,
   "outputs": [],
   "source": [
    "# Create data frames for the data\n",
    "df_train = pd.DataFrame(train_data)\n",
    "df_train[\"targets\"] = train_targets\n",
    "\n",
    "# Because of the way we loaded the data, our test set has already been created. \n",
    "test_set = pd.DataFrame(test_data)\n",
    "test_set[\"targets\"] = test_targets\n",
    "\n",
    "# Randomize the rows to prevent any bias\n",
    "df_train_new = df_train.reindex(np.random.permutation(df_train.index))\n",
    "\n",
    "# Splits the training data into a training set and a validation set\n",
    "training_set = df_train_new.head(325)\n",
    "validation_set = df_train_new.tail(79)"
   ],
   "metadata": {
    "collapsed": false,
    "pycharm": {
     "name": "#%%\n",
     "is_executing": false
    }
   }
  },
  {
   "cell_type": "markdown",
   "source": [
    "### 3.c - Create a synthetic feature\n",
    "\n",
    "The synthetic feature I chose multiplies the Per capita crime rate and the\n",
    "% lower status of the population columns together, in hopes of creating a feature\n",
    "that can speak broadly to the socioeconomic health of a given community."
   ],
   "metadata": {
    "collapsed": false
   }
  },
  {
   "cell_type": "code",
   "execution_count": 19,
   "outputs": [],
   "source": [
    "df_train_new[\"Socioeconomic health\"] = df_train_new[0] * df_train_new[12]\n"
   ],
   "metadata": {
    "collapsed": false,
    "pycharm": {
     "name": "#%%\n",
     "is_executing": false
    }
   }
  }
 ],
 "metadata": {
  "kernelspec": {
   "display_name": "Python 3",
   "language": "python",
   "name": "python3"
  },
  "language_info": {
   "codemirror_mode": {
    "name": "ipython",
    "version": 2
   },
   "file_extension": ".py",
   "mimetype": "text/x-python",
   "name": "python",
   "nbconvert_exporter": "python",
   "pygments_lexer": "ipython2",
   "version": "2.7.6"
  },
  "pycharm": {
   "stem_cell": {
    "cell_type": "raw",
    "source": [],
    "metadata": {
     "collapsed": false
    }
   }
  }
 },
 "nbformat": 4,
 "nbformat_minor": 0
}