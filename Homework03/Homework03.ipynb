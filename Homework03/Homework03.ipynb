{
 "cells": [
  {
   "cell_type": "markdown",
   "metadata": {
    "collapsed": true,
    "pycharm": {
     "name": "#%% md\n"
    }
   },
   "source": [
    "# Homework 03\n",
    "\n",
    "## 3.1 - Restaurant Price Information Gain"
   ]
  },
  {
   "cell_type": "markdown",
   "source": [
    "Information gain is defined as: \n",
    "Gain(A) = Entropy(V) - Remainder(A)\n",
    "\n",
    "Remainder(Price) = 7/12 * Entropy(cheap) + 2/12 * Entropy(mid-level) + 3/12 * Entropy(expensive)\n",
    "\n",
    "Remainder(Price) = (7/12)*-1*((4/7)*lg(4/7)+(3/7)*lg(3/7)) + 0 + (3/12)*-1*((2/3)*lg(2/3)+(1/3)*lg(1/3))\n",
    "= 0.57 + 0 + 0.2 = 0.8.\n",
    "\n",
    "Therefore the Information Gain of Price is 1 - 0.8 = 0.2. \n",
    "\n",
    "This is more valuable than the type attribute (gain of 0), but less valuable than the \n",
    "patrons attribute (0.54 gain)."
   ],
   "metadata": {
    "collapsed": false
   }
  },
  {
   "cell_type": "markdown",
   "source": [
    "## 3.2 - XOR Neural Network"
   ],
   "metadata": {
    "collapsed": false
   }
  },
  {
   "cell_type": "markdown",
   "source": [
    "With the neural network we created by hand in class, in was not possible to learn \n",
    "the XOR function, even though we were able to make it learn AND and OR. This is because\n",
    "AND and OR are learned through linear separation: in both cases a straight line can be drawn \n",
    "on the theoretical graph where the answers lie, and this line can cleanly separate \n",
    "the 1's and 0's, having them on each side of the line. The XOR function is not \n",
    "linearly separable, and therefore can't be learned by the Perceptron learning rule."
   ],
   "metadata": {
    "collapsed": false
   }
  },
  {
   "cell_type": "markdown",
   "source": [
    "## 3.3 - Pandas"
   ],
   "metadata": {
    "collapsed": false
   }
  },
  {
   "cell_type": "code",
   "execution_count": 7,
   "outputs": [],
   "source": [
    "# Imports\n",
    "from keras.datasets import boston_housing\n",
    "import pandas as pd\n",
    "import numpy as np"
   ],
   "metadata": {
    "collapsed": false,
    "pycharm": {
     "name": "#%%\n",
     "is_executing": false
    }
   }
  },
  {
   "cell_type": "code",
   "execution_count": 4,
   "outputs": [],
   "source": [
    "# Bringing in the data\n",
    "(train_data, train_targets), (test_data, test_targets) = boston_housing.load_data()"
   ],
   "metadata": {
    "collapsed": false,
    "pycharm": {
     "name": "#%%\n",
     "is_executing": false
    }
   }
  },
  {
   "cell_type": "markdown",
   "source": [
    "### 3.3a - Compute the dimensions of the data structures"
   ],
   "metadata": {
    "collapsed": false,
    "pycharm": {
     "name": "#%% md\n"
    }
   }
  },
  {
   "cell_type": "code",
   "execution_count": 5,
   "outputs": [
    {
     "name": "stdout",
     "text": [
      "Training data shape:\t (404, 13)\n",
      "Training targets shape:\t (404,)\n",
      "Testing data shape:\t (102, 13)\n",
      "Testing targets shape:\t (102,)\n"
     ],
     "output_type": "stream"
    }
   ],
   "source": [
    "# Displaying the dimensions of the data structures.\n",
    "print(\"Training data shape:\\t\", train_data.shape)\n",
    "print(\"Training targets shape:\\t\", train_targets.shape)\n",
    "print(\"Testing data shape:\\t\", test_data.shape)\n",
    "print(\"Testing targets shape:\\t\", test_targets.shape)"
   ],
   "metadata": {
    "collapsed": false,
    "pycharm": {
     "name": "#%%\n",
     "is_executing": false
    }
   }
  },
  {
   "cell_type": "markdown",
   "source": [
    "### 3.3b - Construct training, test, and validation sets"
   ],
   "metadata": {
    "collapsed": false,
    "pycharm": {
     "name": "#%% md\n"
    }
   }
  },
  {
   "cell_type": "code",
   "execution_count": 16,
   "outputs": [],
   "source": [
    "# Create data frames for the data\n",
    "df_train = pd.DataFrame(train_data)\n",
    "df_train[\"targets\"] = train_targets\n",
    "\n",
    "# Because of the way we loaded the data, our test set has already been created. \n",
    "test_set = pd.DataFrame(test_data)\n",
    "test_set[\"targets\"] = test_targets\n",
    "\n",
    "# Randomize the rows to prevent any bias\n",
    "df_train_new = df_train.reindex(np.random.permutation(df_train.index))\n",
    "\n",
    "# Splits the training data into a training set and a validation set\n",
    "training_set = df_train_new.head(325)\n",
    "validation_set = df_train_new.tail(79)"
   ],
   "metadata": {
    "collapsed": false,
    "pycharm": {
     "name": "#%%\n",
     "is_executing": false
    }
   }
  },
  {
   "cell_type": "markdown",
   "source": [
    "### 3.c - Create a synthetic feature\n",
    "\n",
    "The synthetic feature I chose multiplies the Per capita crime rate and the\n",
    "% lower status of the population columns together, in hopes of creating a feature\n",
    "that can speak broadly to the socioeconomic health of a given community."
   ],
   "metadata": {
    "collapsed": false
   }
  },
  {
   "cell_type": "code",
   "execution_count": 18,
   "outputs": [
    {
     "data": {
      "text/plain": "            0    1      2    3      4      5     6       7     8      9    10  \\\n297   7.67202  0.0  18.10  0.0  0.693  5.747  98.9  1.6334  24.0  666.0  20.2   \n392   0.30347  0.0   7.38  0.0  0.493  6.312  28.9  5.4159   5.0  287.0  19.6   \n299  12.80230  0.0  18.10  0.0  0.740  5.854  96.6  1.8956  24.0  666.0  20.2   \n132   0.46296  0.0   6.20  0.0  0.504  7.412  76.9  3.6715   8.0  307.0  17.4   \n351   0.08707  0.0  12.83  0.0  0.437  6.140  45.8  4.0905   5.0  398.0  18.7   \n\n         11     12  targets  Socioeconomic health  \n297  393.10  19.92      8.5            152.826638  \n392  396.90   6.15     23.0              1.866341  \n299  240.52  23.79     10.8            304.566717  \n132  376.14   5.25     31.7              2.430540  \n351  386.96  10.27     20.8              0.894209  ",
      "text/html": "<div>\n<style scoped>\n    .dataframe tbody tr th:only-of-type {\n        vertical-align: middle;\n    }\n\n    .dataframe tbody tr th {\n        vertical-align: top;\n    }\n\n    .dataframe thead th {\n        text-align: right;\n    }\n</style>\n<table border=\"1\" class=\"dataframe\">\n  <thead>\n    <tr style=\"text-align: right;\">\n      <th></th>\n      <th>0</th>\n      <th>1</th>\n      <th>2</th>\n      <th>3</th>\n      <th>4</th>\n      <th>5</th>\n      <th>6</th>\n      <th>7</th>\n      <th>8</th>\n      <th>9</th>\n      <th>10</th>\n      <th>11</th>\n      <th>12</th>\n      <th>targets</th>\n      <th>Socioeconomic health</th>\n    </tr>\n  </thead>\n  <tbody>\n    <tr>\n      <th>297</th>\n      <td>7.67202</td>\n      <td>0.0</td>\n      <td>18.10</td>\n      <td>0.0</td>\n      <td>0.693</td>\n      <td>5.747</td>\n      <td>98.9</td>\n      <td>1.6334</td>\n      <td>24.0</td>\n      <td>666.0</td>\n      <td>20.2</td>\n      <td>393.10</td>\n      <td>19.92</td>\n      <td>8.5</td>\n      <td>152.826638</td>\n    </tr>\n    <tr>\n      <th>392</th>\n      <td>0.30347</td>\n      <td>0.0</td>\n      <td>7.38</td>\n      <td>0.0</td>\n      <td>0.493</td>\n      <td>6.312</td>\n      <td>28.9</td>\n      <td>5.4159</td>\n      <td>5.0</td>\n      <td>287.0</td>\n      <td>19.6</td>\n      <td>396.90</td>\n      <td>6.15</td>\n      <td>23.0</td>\n      <td>1.866341</td>\n    </tr>\n    <tr>\n      <th>299</th>\n      <td>12.80230</td>\n      <td>0.0</td>\n      <td>18.10</td>\n      <td>0.0</td>\n      <td>0.740</td>\n      <td>5.854</td>\n      <td>96.6</td>\n      <td>1.8956</td>\n      <td>24.0</td>\n      <td>666.0</td>\n      <td>20.2</td>\n      <td>240.52</td>\n      <td>23.79</td>\n      <td>10.8</td>\n      <td>304.566717</td>\n    </tr>\n    <tr>\n      <th>132</th>\n      <td>0.46296</td>\n      <td>0.0</td>\n      <td>6.20</td>\n      <td>0.0</td>\n      <td>0.504</td>\n      <td>7.412</td>\n      <td>76.9</td>\n      <td>3.6715</td>\n      <td>8.0</td>\n      <td>307.0</td>\n      <td>17.4</td>\n      <td>376.14</td>\n      <td>5.25</td>\n      <td>31.7</td>\n      <td>2.430540</td>\n    </tr>\n    <tr>\n      <th>351</th>\n      <td>0.08707</td>\n      <td>0.0</td>\n      <td>12.83</td>\n      <td>0.0</td>\n      <td>0.437</td>\n      <td>6.140</td>\n      <td>45.8</td>\n      <td>4.0905</td>\n      <td>5.0</td>\n      <td>398.0</td>\n      <td>18.7</td>\n      <td>386.96</td>\n      <td>10.27</td>\n      <td>20.8</td>\n      <td>0.894209</td>\n    </tr>\n  </tbody>\n</table>\n</div>"
     },
     "metadata": {},
     "output_type": "execute_result",
     "execution_count": 18
    }
   ],
   "source": [
    "df_train_new[\"Socioeconomic health\"] = df_train_new[0] * df_train_new[12]\n"
   ],
   "metadata": {
    "collapsed": false,
    "pycharm": {
     "name": "#%%\n",
     "is_executing": false
    }
   }
  }
 ],
 "metadata": {
  "kernelspec": {
   "display_name": "Python 3",
   "language": "python",
   "name": "python3"
  },
  "language_info": {
   "codemirror_mode": {
    "name": "ipython",
    "version": 2
   },
   "file_extension": ".py",
   "mimetype": "text/x-python",
   "name": "python",
   "nbconvert_exporter": "python",
   "pygments_lexer": "ipython2",
   "version": "2.7.6"
  },
  "pycharm": {
   "stem_cell": {
    "cell_type": "raw",
    "source": [],
    "metadata": {
     "collapsed": false
    }
   }
  }
 },
 "nbformat": 4,
 "nbformat_minor": 0
}