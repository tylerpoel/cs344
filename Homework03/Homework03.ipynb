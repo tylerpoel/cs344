{
 "cells": [
  {
   "cell_type": "markdown",
   "metadata": {
    "collapsed": true,
    "pycharm": {
     "name": "#%% md\n"
    }
   },
   "source": [
    "# Homework 03\n",
    "\n",
    "## 3.1 - Restaurant Price Information Gain"
   ]
  },
  {
   "cell_type": "markdown",
   "source": [
    "Information gain is defined as: \n",
    "Gain(A) = Entropy(V) - Remainder(A)\n",
    "\n",
    "Remainder(Price) = 7/12 * Entropy(cheap) + 2/12 * Entropy(mid-level) + 3/12 * Entropy(expensive)\n",
    "\n",
    "Remainder(Price) = (7/12)*-1*((4/7)*lg(4/7)+(3/7)*lg(3/7)) + 0 + (3/12)*-1*((2/3)*lg(2/3)+(1/3)*lg(1/3))\n",
    "= 0>57 + 0 + 0.2 = 0.8.\n",
    "\n",
    "Therefore the Information Gain of Price is 1 - 0.8 = 0.2. \n",
    "\n",
    "This is more valuable than the type attribute (Gain of 0), but less valuable than the \n",
    "patrons attribute (0.54 gain)."
   ],
   "metadata": {
    "collapsed": false
   }
  }
 ],
 "metadata": {
  "kernelspec": {
   "display_name": "Python 3",
   "language": "python",
   "name": "python3"
  },
  "language_info": {
   "codemirror_mode": {
    "name": "ipython",
    "version": 2
   },
   "file_extension": ".py",
   "mimetype": "text/x-python",
   "name": "python",
   "nbconvert_exporter": "python",
   "pygments_lexer": "ipython2",
   "version": "2.7.6"
  },
  "pycharm": {
   "stem_cell": {
    "cell_type": "raw",
    "source": [],
    "metadata": {
     "collapsed": false
    }
   }
  }
 },
 "nbformat": 4,
 "nbformat_minor": 0
}