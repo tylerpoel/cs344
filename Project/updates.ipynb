{
 "cells": [
  {
   "cell_type": "markdown",
   "metadata": {
    "collapsed": true,
    "pycharm": {
     "name": "#%% md\n"
    }
   },
   "source": [
    "## Updates\n",
    "For the Final Project in CS344 at Calvin University.\n",
    "Student: Tyler Poel,\n",
    "Date: May 20, 2020.\n",
    "\n",
    "This gives an outline of the updates I've made to my final project\n",
    "since the project walkthrough.\n",
    "\n",
    "I've added more than just the Star Wars text to my project. I created a second\n",
    "notebook, with the same LSTM network implementation, that feeds the network\n",
    "with the book \"Little Women\", by Louisa May Alcott. This is for purposes\n",
    "of comparing and contrasting with the Star Wars model. Since the model\n",
    "is the same between them both, different degrees of success between the outputs\n",
    "could lead to insights with how the network \"learns\" text. Since the\n",
    "texts are different in nature, one being a movie script and the other being a novel,\n",
    "it will be interesting to see the differences between them, if any.\n"
   ]
  }
 ],
 "metadata": {
  "kernelspec": {
   "display_name": "Python 3",
   "language": "python",
   "name": "python3"
  },
  "language_info": {
   "codemirror_mode": {
    "name": "ipython",
    "version": 2
   },
   "file_extension": ".py",
   "mimetype": "text/x-python",
   "name": "python",
   "nbconvert_exporter": "python",
   "pygments_lexer": "ipython2",
   "version": "2.7.6"
  }
 },
 "nbformat": 4,
 "nbformat_minor": 0
}