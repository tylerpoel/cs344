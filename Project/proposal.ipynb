{
 "cells": [
  {
   "cell_type": "markdown",
   "metadata": {
    "collapsed": true,
    "pycharm": {
     "name": "#%% md\n"
    }
   },
   "source": [
    "### Vision"
   ]
  },
  {
   "cell_type": "markdown",
   "source": [
    "In this project I will be exploring text generation using\n",
    "neural networks, specifically a LSTM. I will feed the\n",
    "network in a large text file, and based off of how\n",
    "I train it I'm interested in what type of text generation\n",
    "I'll receive.\n",
    "\n",
    "Specifically I'll be feeding the neural network the script for\n",
    "\"Star Wars: A New Hope\". I'm interested in the type of script\n",
    "the neural network will give me as output. For example, will it give me\n",
    "specific \"scenes\", with locations for each one? Will it\n",
    "match the campy and admittedly sometimes poor dialogue that\n",
    "Star Wars is infamous for? Even more fundamental, will its\n",
    "output script even make logical sense? These are some of the\n",
    "questions I'm interested in answering with this project."
   ],
   "metadata": {
    "collapsed": false
   }
  },
  {
   "cell_type": "markdown",
   "source": [
    "### Background"
   ],
   "metadata": {
    "collapsed": false
   }
  },
  {
   "cell_type": "markdown",
   "source": [
    "A bulk of the code used to create this model comes from Chapter 8, Section 1 of\n",
    "\"Deep Learning with Python\", by François Chollet. The code\n",
    "can be found here:\n",
    "https://github.com/fchollet/deep-learning-with-python-notebooks/blob/master/8.1-text-generation-with-lstm.ipynb\n",
    "\n",
    "This uses a Recurrent Neural Network, more specifically a LSTM\n",
    "(long-short-term-memory). RNN's are a great tool to use here, as they\n",
    "feed the output of the most recent run of the model into a new run\n",
    "of the model. In this specific case, the RNN will be using a previously predicted\n",
    "word to choose a word to follow it. \n"
   ],
   "metadata": {
    "collapsed": false
   }
  },
  {
   "cell_type": "markdown",
   "source": [
    "### Implementation"
   ],
   "metadata": {
    "collapsed": false
   }
  },
  {
   "cell_type": "markdown",
   "source": [
    "This approach uses one-hot encoding on the input text file, and a sequential model\n",
    "built from a LSTM layer and a dense layer with a softmax activation.\n",
    "\n",
    "This extends Chollet's work by using a different input file."
   ],
   "metadata": {
    "collapsed": false
   }
  },
  {
   "cell_type": "markdown",
   "source": [
    "### Results"
   ],
   "metadata": {
    "collapsed": false
   }
  },
  {
   "cell_type": "markdown",
   "source": [
    "To be found still."
   ],
   "metadata": {
    "collapsed": false
   }
  },
  {
   "cell_type": "markdown",
   "source": [
    "### Implications"
   ],
   "metadata": {
    "collapsed": false
   }
  },
  {
   "cell_type": "markdown",
   "source": [
    "I don't see there being many harmful ways that this model could be used,\n",
    "at least in its current state. Right now its predictive powers are only ok,\n",
    "and it's pretty easy to see that it's not a human coming up with the output.\n",
    "\n",
    "However, if this technology becomes extremely nuanced and accurate, this\n",
    "could be harmful, as it will become hard to distinguish if text was\n",
    "written by a real human or by a computer. We expect a certain level\n",
    "of authenticity when we read things written by humans, and being tricked\n",
    "into thinking computer written text was written by a human seems to violate\n",
    "laws of ethics/morality.\n"
   ],
   "metadata": {
    "collapsed": false
   }
  }
 ],
 "metadata": {
  "kernelspec": {
   "display_name": "Python 3",
   "language": "python",
   "name": "python3"
  },
  "language_info": {
   "codemirror_mode": {
    "name": "ipython",
    "version": 2
   },
   "file_extension": ".py",
   "mimetype": "text/x-python",
   "name": "python",
   "nbconvert_exporter": "python",
   "pygments_lexer": "ipython2",
   "version": "2.7.6"
  }
 },
 "nbformat": 4,
 "nbformat_minor": 0
}